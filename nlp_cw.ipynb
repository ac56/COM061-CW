{
  "nbformat": 4,
  "nbformat_minor": 0,
  "metadata": {
    "kernelspec": {
      "display_name": "Python 3",
      "language": "python",
      "name": "python3"
    },
    "language_info": {
      "codemirror_mode": {
        "name": "ipython",
        "version": 3
      },
      "file_extension": ".py",
      "mimetype": "text/x-python",
      "name": "python",
      "nbconvert_exporter": "python",
      "pygments_lexer": "ipython3",
      "version": "3.8.5"
    },
    "toc": {
      "base_numbering": 1,
      "nav_menu": {},
      "number_sections": true,
      "sideBar": true,
      "skip_h1_title": false,
      "title_cell": "Table of Contents",
      "title_sidebar": "Contents",
      "toc_cell": false,
      "toc_position": {
        "height": "calc(100% - 180px)",
        "left": "10px",
        "top": "150px",
        "width": "237.99632263183594px"
      },
      "toc_section_display": true,
      "toc_window_display": true
    },
    "colab": {
      "name": "nlp_cw.ipynb",
      "provenance": [],
      "collapsed_sections": [],
      "toc_visible": true,
      "machine_shape": "hm"
    },
    "accelerator": "GPU"
  },
  "cells": [
    {
      "cell_type": "markdown",
      "metadata": {
        "id": "MbC4MDJ6kOpX"
      },
      "source": [
        "# Objectives:"
      ]
    },
    {
      "cell_type": "markdown",
      "metadata": {
        "id": "XYj34YP9qiKA"
      },
      "source": [
        "# 1 - mount drive"
      ]
    },
    {
      "cell_type": "code",
      "metadata": {
        "colab": {
          "base_uri": "https://localhost:8080/"
        },
        "id": "aM2I5E6TScKt",
        "outputId": "9be4983f-4ed7-4307-b859-587d42ecea28"
      },
      "source": [
        "from google.colab import drive\n",
        "drive.mount('/content/gdrive')"
      ],
      "execution_count": null,
      "outputs": [
        {
          "output_type": "stream",
          "text": [
            "Mounted at /content/gdrive\n"
          ],
          "name": "stdout"
        }
      ]
    },
    {
      "cell_type": "markdown",
      "metadata": {
        "id": "ktpde1WnPCss"
      },
      "source": [
        "# 2 - imports"
      ]
    },
    {
      "cell_type": "code",
      "metadata": {
        "id": "5k-7qlvmPCsv"
      },
      "source": [
        "import csv\n",
        "import numpy as np\n",
        "import re\n",
        "import random\n",
        "import nltk\n",
        "import pandas as pd\n",
        "from nltk.corpus import stopwords\n",
        "from nltk.tokenize import word_tokenize \n",
        "from nltk.stem.porter import PorterStemmer\n",
        "from sklearn.feature_extraction.text import CountVectorizer\n",
        "from sklearn.linear_model import LogisticRegression\n",
        "from sklearn.metrics import accuracy_score\n",
        "from sklearn.metrics import confusion_matrix\n",
        "from sklearn.metrics import classification_report \n",
        "from sklearn.metrics import roc_auc_score\n",
        "from sklearn.metrics import roc_curve\n",
        "from sklearn.metrics import precision_recall_curve\n",
        "from sklearn.metrics import auc\n",
        "from sklearn.svm import LinearSVC\n",
        "from sklearn.feature_extraction.text import TfidfVectorizer\n",
        "from sklearn.model_selection import train_test_split\n",
        "from sklearn.metrics import plot_confusion_matrix\n",
        "import gensim\n",
        "from gensim import corpora\n",
        "from gensim.models import KeyedVectors \n",
        "import spacy\n",
        "import seaborn as sns\n",
        "\n",
        "import matplotlib.pyplot as plt"
      ],
      "execution_count": null,
      "outputs": []
    },
    {
      "cell_type": "code",
      "metadata": {
        "colab": {
          "base_uri": "https://localhost:8080/"
        },
        "id": "6bddBF7kvaS1",
        "outputId": "756c195d-2489-4aa4-c7d6-fbd3ddde459f"
      },
      "source": [
        "nlp = spacy.load(\"en_core_web_sm\", disable=['parser', 'ner'])\n",
        "nltk.download('punkt')\n",
        "nltk.download('stopwords')\n",
        "stop_words = stopwords.words('english')"
      ],
      "execution_count": null,
      "outputs": [
        {
          "output_type": "stream",
          "text": [
            "[nltk_data] Downloading package punkt to /root/nltk_data...\n",
            "[nltk_data]   Package punkt is already up-to-date!\n",
            "[nltk_data] Downloading package stopwords to /root/nltk_data...\n",
            "[nltk_data]   Package stopwords is already up-to-date!\n"
          ],
          "name": "stdout"
        }
      ]
    },
    {
      "cell_type": "markdown",
      "metadata": {
        "id": "oq5GnrToPCsv"
      },
      "source": [
        "# 3a - utils"
      ]
    },
    {
      "cell_type": "code",
      "metadata": {
        "id": "iVjpOsISPCsx"
      },
      "source": [
        "def masterclean(texto):\n",
        "    \n",
        "    '''\n",
        "    Includes cleaning of :\n",
        "    stop wrods are left in here best results so far     super best  80.4%\n",
        "    more than 2 letters in 1\n",
        "    removes single letters\n",
        "\n",
        "    Does not include the cleaning of stop words and stemmed words\n",
        "\n",
        "    '''\n",
        "\n",
        "    '''\n",
        "    Input: str \n",
        "    Output: tokenised list\n",
        "    '''\n",
        "    \n",
        "\n",
        "    texto=texto.lower()\n",
        "#    print(texto)\n",
        "\n",
        "    #clears email adress\n",
        "    texto = re.sub(r'[a-zA-Z0-9.-_+]+@[a-zA-Z-]+[a-zA-Z0-9-.]+', '', texto, flags=re.MULTILINE)\n",
        "    #clears tag\n",
        "    texto = re.sub(r'@[a-zA-Z0-9.-_+]+', 'tag', texto, flags=re.MULTILINE)\n",
        "    #clears www.\n",
        "    texto = re.sub(r'[a-zA-Z0-9.-_+]+\\.[a-zA-Z0-9-]+\\.[a-zA-Z0-9-.]+', '', texto, flags=re.MULTILINE)\n",
        "    #clears http:\n",
        "    texto = re.sub(r'(https|http)?:\\/\\/(\\w|\\.|\\/|\\?|\\=|\\&|\\%)*\\b', 'link', texto, flags=re.MULTILINE)\n",
        "    # #clear numbers\n",
        "    # texto = re.sub(\"\\d+\", \" \", texto)\n",
        "    #repeated charachers\n",
        "    texto = re.sub(r\"(.)\\1{1,}\", r\"\\1\", texto, flags=re.MULTILINE)\n",
        "    #clear punctuation\n",
        "    texto = re.sub(r'[^\\w\\s]', '', texto, flags=re.MULTILINE)\n",
        "    word_tokens = word_tokenize(texto) \n",
        "\n",
        "    newlist2=[]\n",
        "    for i in word_tokens:\n",
        "        if len(i)>1:\n",
        "            newlist2.append(i)\n",
        "            \n",
        "    return newlist2\n",
        "\n",
        "def to_1D(lablist):\n",
        "  lab1D = lablist[0]\n",
        "  return lab1D\n",
        "\n",
        "def remove_stopwords(tokens):\n",
        "  return [word for word in tokens if word not in stop_words]\n"
      ],
      "execution_count": null,
      "outputs": []
    },
    {
      "cell_type": "code",
      "metadata": {
        "id": "VMqGuhlZUzQZ"
      },
      "source": [
        "def make_bigrams(tokens):\n",
        "    bigram = gensim.models.Phrases(tokens, min_count=5, threshold=100)\n",
        "    bigram_mod = gensim.models.phrases.Phraser(bigram)\n",
        "    return bigram_mod[tokens]\n",
        "\n",
        "def prepare_corpus(doc_clean):\n",
        "    \"\"\"\n",
        "    Input  : clean document\n",
        "    Purpose: create term dictionary of our courpus and Converting list of documents (corpus) into Document Term Matrix\n",
        "    Output : term dictionary and Document Term Matrix\n",
        "    \"\"\"\n",
        "    # Creating the term dictionary of our courpus, where every unique term is assigned an index. dictionary = corpora.Dictionary(doc_clean)\n",
        "    dictionary = corpora.Dictionary(doc_clean)\n",
        "    # Converting list of documents (corpus) into Document Term Matrix using dictionary prepared above.\n",
        "    doc_term_matrix = [dictionary.doc2bow(doc) for doc in doc_clean]\n",
        "    # generate LDA model\n",
        "    return dictionary,doc_term_matrix\n"
      ],
      "execution_count": null,
      "outputs": []
    },
    {
      "cell_type": "markdown",
      "metadata": {
        "id": "xVc6U7oVPCsz"
      },
      "source": [
        "# 3a - loading data"
      ]
    },
    {
      "cell_type": "code",
      "metadata": {
        "scrolled": true,
        "colab": {
          "base_uri": "https://localhost:8080/"
        },
        "id": "Y9ZMoqG-PCsz",
        "outputId": "c5e90c12-d010-4b1c-c984-ea3949f2cb91"
      },
      "source": [
        "filename = '/content/gdrive/MyDrive/IMDbmovies.csv'\n",
        "\n",
        "# data in dataframe\n",
        "df = pd.read_csv(filename)\n",
        "\n",
        "# df.head()"
      ],
      "execution_count": null,
      "outputs": [
        {
          "output_type": "stream",
          "text": [
            "/usr/local/lib/python3.7/dist-packages/IPython/core/interactiveshell.py:2718: DtypeWarning: Columns (3) have mixed types.Specify dtype option on import or set low_memory=False.\n",
            "  interactivity=interactivity, compiler=compiler, result=result)\n"
          ],
          "name": "stderr"
        }
      ]
    },
    {
      "cell_type": "markdown",
      "metadata": {
        "id": "EMdo3GcwPCs1"
      },
      "source": [
        "# 3a - preprocessing"
      ]
    },
    {
      "cell_type": "code",
      "metadata": {
        "scrolled": true,
        "id": "6lchfFo8PCs3"
      },
      "source": [
        "df = df[['imdb_title_id', 'genre', 'description']]"
      ],
      "execution_count": null,
      "outputs": []
    },
    {
      "cell_type": "code",
      "metadata": {
        "id": "kVfSN_fwPCs0"
      },
      "source": [
        "df = df[df['description'].notna()]"
      ],
      "execution_count": null,
      "outputs": []
    },
    {
      "cell_type": "code",
      "metadata": {
        "colab": {
          "base_uri": "https://localhost:8080/"
        },
        "id": "J-tlFMELPCs1",
        "outputId": "19f07da2-9d6d-4d07-e2b0-baa4c8e91d1a"
      },
      "source": [
        "df.shape"
      ],
      "execution_count": null,
      "outputs": [
        {
          "output_type": "execute_result",
          "data": {
            "text/plain": [
              "(83740, 3)"
            ]
          },
          "metadata": {
            "tags": []
          },
          "execution_count": 155
        }
      ]
    },
    {
      "cell_type": "code",
      "metadata": {
        "id": "oEezDj9yPCs1"
      },
      "source": [
        "df['tokens'] = df['description'].apply(masterclean)"
      ],
      "execution_count": null,
      "outputs": []
    },
    {
      "cell_type": "code",
      "metadata": {
        "colab": {
          "base_uri": "https://localhost:8080/",
          "height": 289
        },
        "id": "kUuOAfWGQAvQ",
        "outputId": "d7f7e50d-c904-484b-c624-54a86d3d0c8f"
      },
      "source": [
        "df.head()"
      ],
      "execution_count": null,
      "outputs": [
        {
          "output_type": "execute_result",
          "data": {
            "text/html": [
              "<div>\n",
              "<style scoped>\n",
              "    .dataframe tbody tr th:only-of-type {\n",
              "        vertical-align: middle;\n",
              "    }\n",
              "\n",
              "    .dataframe tbody tr th {\n",
              "        vertical-align: top;\n",
              "    }\n",
              "\n",
              "    .dataframe thead th {\n",
              "        text-align: right;\n",
              "    }\n",
              "</style>\n",
              "<table border=\"1\" class=\"dataframe\">\n",
              "  <thead>\n",
              "    <tr style=\"text-align: right;\">\n",
              "      <th></th>\n",
              "      <th>imdb_title_id</th>\n",
              "      <th>genre</th>\n",
              "      <th>description</th>\n",
              "      <th>tokens</th>\n",
              "    </tr>\n",
              "  </thead>\n",
              "  <tbody>\n",
              "    <tr>\n",
              "      <th>0</th>\n",
              "      <td>tt0000009</td>\n",
              "      <td>Romance</td>\n",
              "      <td>The adventures of a female reporter in the 1890s.</td>\n",
              "      <td>[the, adventures, of, female, reporter, in, th...</td>\n",
              "    </tr>\n",
              "    <tr>\n",
              "      <th>1</th>\n",
              "      <td>tt0000574</td>\n",
              "      <td>Biography, Crime, Drama</td>\n",
              "      <td>True story of notorious Australian outlaw Ned ...</td>\n",
              "      <td>[true, story, of, notorious, australian, outla...</td>\n",
              "    </tr>\n",
              "    <tr>\n",
              "      <th>2</th>\n",
              "      <td>tt0001892</td>\n",
              "      <td>Drama</td>\n",
              "      <td>Two men of high rank are both wooing the beaut...</td>\n",
              "      <td>[two, men, of, high, rank, are, both, woing, t...</td>\n",
              "    </tr>\n",
              "    <tr>\n",
              "      <th>3</th>\n",
              "      <td>tt0002101</td>\n",
              "      <td>Drama, History</td>\n",
              "      <td>The fabled queen of Egypt's affair with Roman ...</td>\n",
              "      <td>[the, fabled, quen, of, egypts, afair, with, r...</td>\n",
              "    </tr>\n",
              "    <tr>\n",
              "      <th>4</th>\n",
              "      <td>tt0002130</td>\n",
              "      <td>Adventure, Drama, Fantasy</td>\n",
              "      <td>Loosely adapted from Dante's Divine Comedy and...</td>\n",
              "      <td>[losely, adapted, from, dantes, divine, comedy...</td>\n",
              "    </tr>\n",
              "  </tbody>\n",
              "</table>\n",
              "</div>"
            ],
            "text/plain": [
              "  imdb_title_id  ...                                             tokens\n",
              "0     tt0000009  ...  [the, adventures, of, female, reporter, in, th...\n",
              "1     tt0000574  ...  [true, story, of, notorious, australian, outla...\n",
              "2     tt0001892  ...  [two, men, of, high, rank, are, both, woing, t...\n",
              "3     tt0002101  ...  [the, fabled, quen, of, egypts, afair, with, r...\n",
              "4     tt0002130  ...  [losely, adapted, from, dantes, divine, comedy...\n",
              "\n",
              "[5 rows x 4 columns]"
            ]
          },
          "metadata": {
            "tags": []
          },
          "execution_count": 157
        }
      ]
    },
    {
      "cell_type": "code",
      "metadata": {
        "id": "OxRVa8EEOzs2"
      },
      "source": [
        "df['tokens'] = df['tokens'].apply(lambda x: remove_stopwords(x))"
      ],
      "execution_count": null,
      "outputs": []
    },
    {
      "cell_type": "code",
      "metadata": {
        "id": "OtcXwmbOTIoI"
      },
      "source": [
        "# df['tokens'] = df['tokens'].apply(lambda x: make_bigrams(x))"
      ],
      "execution_count": null,
      "outputs": []
    },
    {
      "cell_type": "code",
      "metadata": {
        "id": "6mkEuORuUmkZ"
      },
      "source": [
        "p_stemmer = PorterStemmer()\n",
        "df['tokens'] = df['tokens'].apply(lambda x: [p_stemmer.stem(token) for token in x])"
      ],
      "execution_count": null,
      "outputs": []
    },
    {
      "cell_type": "code",
      "metadata": {
        "id": "kya0V_0DySNv"
      },
      "source": [
        "# lem = nltk.stem.wordnet.WordNetLemmatizer()\n",
        "# df['tokens'] = df['tokens'].apply(lambda x: [lem.lemmatize(token) for token in x])"
      ],
      "execution_count": null,
      "outputs": []
    },
    {
      "cell_type": "code",
      "metadata": {
        "id": "U6spg0u9PCs5"
      },
      "source": [
        "df['clean'] = df['tokens'].apply(lambda x: ' '.join(x))"
      ],
      "execution_count": null,
      "outputs": []
    },
    {
      "cell_type": "code",
      "metadata": {
        "id": "Pp61V07KRpHN"
      },
      "source": [
        "df['label_tokens'] = df['genre'].apply(masterclean)"
      ],
      "execution_count": null,
      "outputs": []
    },
    {
      "cell_type": "code",
      "metadata": {
        "id": "cAcaNLlBS9EB"
      },
      "source": [
        "# df['labels'] = df['label_tokens'].apply(lambda x: x[0])\n",
        "df['labels'] = df['label_tokens'].apply(to_1D)"
      ],
      "execution_count": null,
      "outputs": []
    },
    {
      "cell_type": "markdown",
      "metadata": {
        "id": "GV5u9SBZtIJJ"
      },
      "source": [
        "# 3b - get pickled dataframe"
      ]
    },
    {
      "cell_type": "code",
      "metadata": {
        "id": "_vY7DGlBaNeC"
      },
      "source": [
        "import pickle\n",
        "\n",
        "# df.to_pickle(\"pickle_rick\")\n",
        "df = pickle.load( open( \"/content/gdrive/MyDrive/pickle_rick\", \"rb\" ) )"
      ],
      "execution_count": null,
      "outputs": []
    },
    {
      "cell_type": "code",
      "metadata": {
        "id": "W8sUF1k5MF6M"
      },
      "source": [
        "df['label_length'] = df['label_tokens'].apply(lambda x: len(x))\n",
        "df = df[df.label_length == 1]"
      ],
      "execution_count": null,
      "outputs": []
    },
    {
      "cell_type": "code",
      "metadata": {
        "id": "QIc4r7E0DTHo"
      },
      "source": [
        "def to_label_dict(labels):\n",
        "  labdict = {}\n",
        "  for i in range(labels.shape[0]):\n",
        "    labdict[labels[i]] = i\n",
        "  return labdict\n",
        "\n",
        "labels = np.unique(df['labels'].values)\n",
        "label_dict = to_label_dict(labels)\n",
        "df['labels'] = df['labels'].apply(lambda x: int(label_dict[x]))"
      ],
      "execution_count": null,
      "outputs": []
    },
    {
      "cell_type": "code",
      "metadata": {
        "colab": {
          "base_uri": "https://localhost:8080/",
          "height": 204
        },
        "id": "EuAN_R6GF7fG",
        "outputId": "bd1053c5-c06e-46dc-9df7-a4aad987f48c"
      },
      "source": [
        "df.head()"
      ],
      "execution_count": null,
      "outputs": [
        {
          "output_type": "execute_result",
          "data": {
            "text/html": [
              "<div>\n",
              "<style scoped>\n",
              "    .dataframe tbody tr th:only-of-type {\n",
              "        vertical-align: middle;\n",
              "    }\n",
              "\n",
              "    .dataframe tbody tr th {\n",
              "        vertical-align: top;\n",
              "    }\n",
              "\n",
              "    .dataframe thead th {\n",
              "        text-align: right;\n",
              "    }\n",
              "</style>\n",
              "<table border=\"1\" class=\"dataframe\">\n",
              "  <thead>\n",
              "    <tr style=\"text-align: right;\">\n",
              "      <th></th>\n",
              "      <th>imdb_title_id</th>\n",
              "      <th>genre</th>\n",
              "      <th>description</th>\n",
              "      <th>tokens</th>\n",
              "      <th>clean</th>\n",
              "      <th>label_tokens</th>\n",
              "      <th>labels</th>\n",
              "      <th>label_length</th>\n",
              "    </tr>\n",
              "  </thead>\n",
              "  <tbody>\n",
              "    <tr>\n",
              "      <th>0</th>\n",
              "      <td>tt0000009</td>\n",
              "      <td>Romance</td>\n",
              "      <td>The adventures of a female reporter in the 1890s.</td>\n",
              "      <td>[adventur, femal, report, 1890]</td>\n",
              "      <td>adventur femal report 1890</td>\n",
              "      <td>[romance]</td>\n",
              "      <td>15</td>\n",
              "      <td>1</td>\n",
              "    </tr>\n",
              "    <tr>\n",
              "      <th>2</th>\n",
              "      <td>tt0001892</td>\n",
              "      <td>Drama</td>\n",
              "      <td>Two men of high rank are both wooing the beaut...</td>\n",
              "      <td>[two, men, high, rank, wo, beauti, famou, eque...</td>\n",
              "      <td>two men high rank wo beauti famou equestrian a...</td>\n",
              "      <td>[drama]</td>\n",
              "      <td>7</td>\n",
              "      <td>1</td>\n",
              "    </tr>\n",
              "    <tr>\n",
              "      <th>9</th>\n",
              "      <td>tt0002461</td>\n",
              "      <td>Drama</td>\n",
              "      <td>Richard of Gloucester uses manipulation and mu...</td>\n",
              "      <td>[richard, gloucest, use, manipul, murder, gain...</td>\n",
              "      <td>richard gloucest use manipul murder gain engli...</td>\n",
              "      <td>[drama]</td>\n",
              "      <td>7</td>\n",
              "      <td>1</td>\n",
              "    </tr>\n",
              "    <tr>\n",
              "      <th>10</th>\n",
              "      <td>tt0002646</td>\n",
              "      <td>Drama</td>\n",
              "      <td>After Dr. Friedrich's wife becomes mentally un...</td>\n",
              "      <td>[dr, friedrich, wife, becom, mentali, unstabl,...</td>\n",
              "      <td>dr friedrich wife becom mentali unstabl resear...</td>\n",
              "      <td>[drama]</td>\n",
              "      <td>7</td>\n",
              "      <td>1</td>\n",
              "    </tr>\n",
              "    <tr>\n",
              "      <th>12</th>\n",
              "      <td>tt0003014</td>\n",
              "      <td>Drama</td>\n",
              "      <td>Single mother is separated from her children d...</td>\n",
              "      <td>[singl, mother, separ, children, due, financi,...</td>\n",
              "      <td>singl mother separ children due financi strugl</td>\n",
              "      <td>[drama]</td>\n",
              "      <td>7</td>\n",
              "      <td>1</td>\n",
              "    </tr>\n",
              "  </tbody>\n",
              "</table>\n",
              "</div>"
            ],
            "text/plain": [
              "   imdb_title_id    genre  ... labels label_length\n",
              "0      tt0000009  Romance  ...     15            1\n",
              "2      tt0001892    Drama  ...      7            1\n",
              "9      tt0002461    Drama  ...      7            1\n",
              "10     tt0002646    Drama  ...      7            1\n",
              "12     tt0003014    Drama  ...      7            1\n",
              "\n",
              "[5 rows x 8 columns]"
            ]
          },
          "metadata": {
            "tags": []
          },
          "execution_count": 16
        }
      ]
    },
    {
      "cell_type": "code",
      "metadata": {
        "colab": {
          "base_uri": "https://localhost:8080/"
        },
        "id": "D4VOuhQULWcD",
        "outputId": "5a997e36-6fa4-4961-ebd3-b3126e7effa3"
      },
      "source": [
        "label_dict"
      ],
      "execution_count": null,
      "outputs": [
        {
          "output_type": "execute_result",
          "data": {
            "text/plain": [
              "{'action': 0,\n",
              " 'adventure': 1,\n",
              " 'animation': 2,\n",
              " 'biography': 3,\n",
              " 'comedy': 4,\n",
              " 'crime': 5,\n",
              " 'documentary': 6,\n",
              " 'drama': 7,\n",
              " 'family': 8,\n",
              " 'fantasy': 9,\n",
              " 'history': 10,\n",
              " 'horor': 11,\n",
              " 'music': 12,\n",
              " 'musical': 13,\n",
              " 'mystery': 14,\n",
              " 'romance': 15,\n",
              " 'scifi': 16,\n",
              " 'sport': 17,\n",
              " 'thriler': 18,\n",
              " 'war': 19,\n",
              " 'western': 20}"
            ]
          },
          "metadata": {
            "tags": []
          },
          "execution_count": 17
        }
      ]
    },
    {
      "cell_type": "markdown",
      "metadata": {
        "id": "XM7m_2F_ifsp"
      },
      "source": [
        "## data selection"
      ]
    },
    {
      "cell_type": "code",
      "metadata": {
        "id": "gZClsQCH73Ts"
      },
      "source": [
        "# get sorted list of most appearing genres\n",
        "count = df['labels'].value_counts()\n",
        "# get labels of most frequent genres, the rest are assigned to remove list rm\n",
        "keep = count[0:5].index\n",
        "rm = []\n",
        "for i in count.index:\n",
        "  if i not in keep:\n",
        "    rm.append(i)\n",
        "\n",
        "# remove rows with label in the remove list\n",
        "for i in rm:\n",
        "  index_names = df[ df['labels'] == i ].index\n",
        "  df.drop(index_names, inplace = True)"
      ],
      "execution_count": null,
      "outputs": []
    },
    {
      "cell_type": "markdown",
      "metadata": {
        "id": "lXzBToAXPCs3"
      },
      "source": [
        "# 4 - modeling\n"
      ]
    },
    {
      "cell_type": "code",
      "metadata": {
        "colab": {
          "base_uri": "https://localhost:8080/",
          "height": 374
        },
        "id": "y25aaM2uPCs6",
        "outputId": "f8bb2dc6-37ec-4a39-d738-27f3dd4ba312"
      },
      "source": [
        "df.tail()"
      ],
      "execution_count": null,
      "outputs": [
        {
          "output_type": "execute_result",
          "data": {
            "text/html": [
              "<div>\n",
              "<style scoped>\n",
              "    .dataframe tbody tr th:only-of-type {\n",
              "        vertical-align: middle;\n",
              "    }\n",
              "\n",
              "    .dataframe tbody tr th {\n",
              "        vertical-align: top;\n",
              "    }\n",
              "\n",
              "    .dataframe thead th {\n",
              "        text-align: right;\n",
              "    }\n",
              "</style>\n",
              "<table border=\"1\" class=\"dataframe\">\n",
              "  <thead>\n",
              "    <tr style=\"text-align: right;\">\n",
              "      <th></th>\n",
              "      <th>imdb_title_id</th>\n",
              "      <th>genre</th>\n",
              "      <th>description</th>\n",
              "      <th>tokens</th>\n",
              "      <th>clean</th>\n",
              "      <th>label_tokens</th>\n",
              "      <th>labels</th>\n",
              "    </tr>\n",
              "  </thead>\n",
              "  <tbody>\n",
              "    <tr>\n",
              "      <th>85848</th>\n",
              "      <td>tt9905462</td>\n",
              "      <td>Drama</td>\n",
              "      <td>An unusual bond between a sixty year old Dalit...</td>\n",
              "      <td>[unusu, bond, betwen, sixti, year, old, dalit,...</td>\n",
              "      <td>unusu bond betwen sixti year old dalit worker ...</td>\n",
              "      <td>[drama]</td>\n",
              "      <td>2</td>\n",
              "    </tr>\n",
              "    <tr>\n",
              "      <th>85849</th>\n",
              "      <td>tt9906644</td>\n",
              "      <td>Comedy, Drama</td>\n",
              "      <td>Manoharan is a poster artist struggling to fin...</td>\n",
              "      <td>[manoharan, poster, artist, strugl, find, resp...</td>\n",
              "      <td>manoharan poster artist strugl find respect pr...</td>\n",
              "      <td>[comedy, drama]</td>\n",
              "      <td>8</td>\n",
              "    </tr>\n",
              "    <tr>\n",
              "      <th>85850</th>\n",
              "      <td>tt9908390</td>\n",
              "      <td>Comedy</td>\n",
              "      <td>A psychiatric hospital patient pretends to be ...</td>\n",
              "      <td>[psychiatr, hospit, patient, pretend, crazi, c...</td>\n",
              "      <td>psychiatr hospit patient pretend crazi charg c...</td>\n",
              "      <td>[comedy]</td>\n",
              "      <td>8</td>\n",
              "    </tr>\n",
              "    <tr>\n",
              "      <th>85851</th>\n",
              "      <td>tt9911196</td>\n",
              "      <td>Comedy, Drama</td>\n",
              "      <td>A middle-aged veterinary surgeon believes his ...</td>\n",
              "      <td>[midleag, veterinari, surgeon, believ, wife, p...</td>\n",
              "      <td>midleag veterinari surgeon believ wife pamper ...</td>\n",
              "      <td>[comedy, drama]</td>\n",
              "      <td>8</td>\n",
              "    </tr>\n",
              "    <tr>\n",
              "      <th>85854</th>\n",
              "      <td>tt9914942</td>\n",
              "      <td>Drama</td>\n",
              "      <td>Pep, a 13-year-old boy, is in love with a girl...</td>\n",
              "      <td>[pep, 13yearold, boy, love, girl, grandpar, vi...</td>\n",
              "      <td>pep 13yearold boy love girl grandpar vilag sar...</td>\n",
              "      <td>[drama]</td>\n",
              "      <td>2</td>\n",
              "    </tr>\n",
              "  </tbody>\n",
              "</table>\n",
              "</div>"
            ],
            "text/plain": [
              "      imdb_title_id          genre  ...     label_tokens labels\n",
              "85848     tt9905462          Drama  ...          [drama]      2\n",
              "85849     tt9906644  Comedy, Drama  ...  [comedy, drama]      8\n",
              "85850     tt9908390         Comedy  ...         [comedy]      8\n",
              "85851     tt9911196  Comedy, Drama  ...  [comedy, drama]      8\n",
              "85854     tt9914942          Drama  ...          [drama]      2\n",
              "\n",
              "[5 rows x 7 columns]"
            ]
          },
          "metadata": {
            "tags": []
          },
          "execution_count": 7
        }
      ]
    },
    {
      "cell_type": "markdown",
      "metadata": {
        "id": "ky6FK1uePCs9"
      },
      "source": [
        "### 5 - implementing svm"
      ]
    },
    {
      "cell_type": "code",
      "metadata": {
        "id": "FmgdtSHyY46J"
      },
      "source": [
        "X = df['clean'].values\n",
        "y = df['labels'].values"
      ],
      "execution_count": null,
      "outputs": []
    },
    {
      "cell_type": "code",
      "metadata": {
        "id": "_Pe8WneiZmVF"
      },
      "source": [
        "# split data\n",
        "X_train, X_test, y_train, y_test = train_test_split(X, y, test_size=0.2, random_state=42, stratify=y)"
      ],
      "execution_count": null,
      "outputs": []
    },
    {
      "cell_type": "code",
      "metadata": {
        "colab": {
          "base_uri": "https://localhost:8080/"
        },
        "id": "qvWmHg_BwCe1",
        "outputId": "976d7423-a555-4a90-c2b2-561a3ec6a433"
      },
      "source": [
        "print(f\"Numbers of train instances by class: {np.bincount(y_train)}\")\n",
        "print(f\"Numbers of test instances by class: {np.bincount(y_test)}\")"
      ],
      "execution_count": null,
      "outputs": [
        {
          "output_type": "stream",
          "text": [
            "Numbers of train instances by class: [    0     0 19812     0     0  4402     0     0 18637  4066     0  9643]\n",
            "Numbers of test instances by class: [   0    0 4954    0    0 1100    0    0 4660 1016    0 2411]\n"
          ],
          "name": "stdout"
        }
      ]
    },
    {
      "cell_type": "code",
      "metadata": {
        "colab": {
          "base_uri": "https://localhost:8080/"
        },
        "id": "vzTVgk6M5N0q",
        "outputId": "8d160bb8-55b1-494b-db12-967dee9d00b4"
      },
      "source": [
        "print(len(np.bincount(y_train)))\n",
        "print(len(np.bincount(y_test)))"
      ],
      "execution_count": null,
      "outputs": [
        {
          "output_type": "stream",
          "text": [
            "12\n",
            "12\n"
          ],
          "name": "stdout"
        }
      ]
    },
    {
      "cell_type": "code",
      "metadata": {
        "colab": {
          "base_uri": "https://localhost:8080/"
        },
        "id": "w-pXJh7kaClF",
        "outputId": "af49ce01-762c-4b1a-fffb-d37e9a8e29ff"
      },
      "source": [
        "# fit TfidfVectorizer\n",
        "VM_vect = TfidfVectorizer(ngram_range=(1, 1))  \n",
        "Xvect = VM_vect.fit_transform(X_train) \n",
        "\n",
        "# transform data\n",
        "Xvect = VM_vect.transform(X_train)\n",
        "X_test = VM_vect.transform(X_test)\n",
        "\n",
        "print('Transformed dimension:',Xvect[0].shape)"
      ],
      "execution_count": null,
      "outputs": [
        {
          "output_type": "stream",
          "text": [
            "Transformed dimension: (1, 48195)\n"
          ],
          "name": "stdout"
        }
      ]
    },
    {
      "cell_type": "code",
      "metadata": {
        "colab": {
          "base_uri": "https://localhost:8080/"
        },
        "id": "EW8DScy_gYkZ",
        "outputId": "a0a25943-c033-4dce-c145-8d8f4f9b57b8"
      },
      "source": [
        "for i in np.linspace(0.2,0.3,5):\n",
        "    # define model\n",
        "    SVM_model = LinearSVC(C=i)\n",
        "    # fit model \n",
        "    SVM_model.fit(Xvect, y_train)\n",
        "    # evaluating\n",
        "    ac = accuracy_score(y_test, SVM_model.predict(X_test))\n",
        "    print('C = '+str(i)+' Accuracy: ',str(ac*100)+' %')\n",
        "\n",
        "# predictions\n",
        "y_pred = SVM_model.predict(X_test) "
      ],
      "execution_count": null,
      "outputs": [
        {
          "output_type": "stream",
          "text": [
            "C = 0.2 Accuracy:  58.43999717134574 %\n",
            "C = 0.225 Accuracy:  58.263206279612476 %\n",
            "C = 0.25 Accuracy:  58.25613464394315 %\n",
            "C = 0.275 Accuracy:  58.220776465596494 %\n",
            "C = 0.3 Accuracy:  58.192489922919165 %\n"
          ],
          "name": "stdout"
        }
      ]
    },
    {
      "cell_type": "code",
      "metadata": {
        "colab": {
          "base_uri": "https://localhost:8080/",
          "height": 296
        },
        "id": "sotc_HDCbKIz",
        "outputId": "cdbebf32-f78c-473e-f8a0-98035e78d6c2"
      },
      "source": [
        "plot_confusion_matrix(SVM_model, X_test, y_test)  "
      ],
      "execution_count": null,
      "outputs": [
        {
          "output_type": "execute_result",
          "data": {
            "text/plain": [
              "<sklearn.metrics._plot.confusion_matrix.ConfusionMatrixDisplay at 0x7fbec582f0d0>"
            ]
          },
          "metadata": {
            "tags": []
          },
          "execution_count": 194
        },
        {
          "output_type": "display_data",
          "data": {
            "image/png": "[encoded data removed]",
            "text/plain": [
              "<Figure size 432x288 with 2 Axes>"
            ]
          },
          "metadata": {
            "tags": [],
            "needs_background": "light"
          }
        }
      ]
    },
    {
      "cell_type": "code",
      "metadata": {
        "colab": {
          "base_uri": "https://localhost:8080/"
        },
        "id": "t9ATZQMwx5v9",
        "outputId": "4b6f1d1c-725d-4168-9311-db6a77ad111b"
      },
      "source": [
        "class_names = []\n",
        "for i in list(np.unique(y_test)):\n",
        "  class_names.append(list(label_dict.keys())[list(label_dict.values()).index(i)])\n",
        "\n",
        "# importing accuracy_score, precision_score, recall_score, f1_score\n",
        "from sklearn.metrics import accuracy_score, precision_score, recall_score, f1_score\n",
        "print('\\nAccuracy: {:.2f}\\n'.format(accuracy_score(y_test, y_pred)))\n",
        "\n",
        "print('Micro Precision: {:.2f}'.format(precision_score(y_test, y_pred, average='micro')))\n",
        "print('Micro Recall: {:.2f}'.format(recall_score(y_test, y_pred, average='micro')))\n",
        "print('Micro F1-score: {:.2f}\\n'.format(f1_score(y_test, y_pred, average='micro')))\n",
        "\n",
        "print('Macro Precision: {:.2f}'.format(precision_score(y_test, y_pred, average='macro')))\n",
        "print('Macro Recall: {:.2f}'.format(recall_score(y_test, y_pred, average='macro')))\n",
        "print('Macro F1-score: {:.2f}\\n'.format(f1_score(y_test, y_pred, average='macro')))\n",
        "\n",
        "print('Weighted Precision: {:.2f}'.format(precision_score(y_test, y_pred, average='weighted')))\n",
        "print('Weighted Recall: {:.2f}'.format(recall_score(y_test, y_pred, average='weighted')))\n",
        "print('Weighted F1-score: {:.2f}'.format(f1_score(y_test, y_pred, average='weighted')))\n",
        "\n",
        "from sklearn.metrics import classification_report\n",
        "print('\\nClassification Report\\n')\n",
        "print(classification_report(y_test, y_pred, target_names=class_names))\n"
      ],
      "execution_count": null,
      "outputs": [
        {
          "output_type": "stream",
          "text": [
            "\n",
            "Accuracy: 0.58\n",
            "\n",
            "Micro Precision: 0.58\n",
            "Micro Recall: 0.58\n",
            "Micro F1-score: 0.58\n",
            "\n",
            "Macro Precision: 0.55\n",
            "Macro Recall: 0.49\n",
            "Macro F1-score: 0.51\n",
            "\n",
            "Weighted Precision: 0.57\n",
            "Weighted Recall: 0.58\n",
            "Weighted F1-score: 0.57\n",
            "\n",
            "Classification Report\n",
            "\n",
            "              precision    recall  f1-score   support\n",
            "\n",
            "       drama       0.57      0.66      0.61      4954\n",
            "       crime       0.41      0.17      0.24      1100\n",
            "      comedy       0.60      0.63      0.61      4660\n",
            "       horor       0.56      0.44      0.49      1016\n",
            "      action       0.62      0.57      0.60      2411\n",
            "\n",
            "    accuracy                           0.58     14141\n",
            "   macro avg       0.55      0.49      0.51     14141\n",
            "weighted avg       0.57      0.58      0.57     14141\n",
            "\n"
          ],
          "name": "stdout"
        }
      ]
    },
    {
      "cell_type": "markdown",
      "metadata": {
        "id": "n73rvLHUQAIn"
      },
      "source": [
        "# 4 - modeling"
      ]
    },
    {
      "cell_type": "code",
      "metadata": {
        "id": "X0SiU2wrpJlp"
      },
      "source": [
        "dtf = df[[\"clean\", \"labels\"]]"
      ],
      "execution_count": null,
      "outputs": []
    },
    {
      "cell_type": "code",
      "metadata": {
        "colab": {
          "base_uri": "https://localhost:8080/",
          "height": 204
        },
        "id": "jELGKmr3pgdw",
        "outputId": "af3d1b53-c83a-41b9-8edd-5ae8c8787e0d"
      },
      "source": [
        "dtf.tail()"
      ],
      "execution_count": null,
      "outputs": [
        {
          "output_type": "execute_result",
          "data": {
            "text/html": [
              "<div>\n",
              "<style scoped>\n",
              "    .dataframe tbody tr th:only-of-type {\n",
              "        vertical-align: middle;\n",
              "    }\n",
              "\n",
              "    .dataframe tbody tr th {\n",
              "        vertical-align: top;\n",
              "    }\n",
              "\n",
              "    .dataframe thead th {\n",
              "        text-align: right;\n",
              "    }\n",
              "</style>\n",
              "<table border=\"1\" class=\"dataframe\">\n",
              "  <thead>\n",
              "    <tr style=\"text-align: right;\">\n",
              "      <th></th>\n",
              "      <th>clean</th>\n",
              "      <th>labels</th>\n",
              "    </tr>\n",
              "  </thead>\n",
              "  <tbody>\n",
              "    <tr>\n",
              "      <th>85848</th>\n",
              "      <td>unusu bond betwen sixti year old dalit worker ...</td>\n",
              "      <td>2</td>\n",
              "    </tr>\n",
              "    <tr>\n",
              "      <th>85849</th>\n",
              "      <td>manoharan poster artist strugl find respect pr...</td>\n",
              "      <td>8</td>\n",
              "    </tr>\n",
              "    <tr>\n",
              "      <th>85850</th>\n",
              "      <td>psychiatr hospit patient pretend crazi charg c...</td>\n",
              "      <td>8</td>\n",
              "    </tr>\n",
              "    <tr>\n",
              "      <th>85851</th>\n",
              "      <td>midleag veterinari surgeon believ wife pamper ...</td>\n",
              "      <td>8</td>\n",
              "    </tr>\n",
              "    <tr>\n",
              "      <th>85854</th>\n",
              "      <td>pep 13yearold boy love girl grandpar vilag sar...</td>\n",
              "      <td>2</td>\n",
              "    </tr>\n",
              "  </tbody>\n",
              "</table>\n",
              "</div>"
            ],
            "text/plain": [
              "                                                   clean  labels\n",
              "85848  unusu bond betwen sixti year old dalit worker ...       2\n",
              "85849  manoharan poster artist strugl find respect pr...       8\n",
              "85850  psychiatr hospit patient pretend crazi charg c...       8\n",
              "85851  midleag veterinari surgeon believ wife pamper ...       8\n",
              "85854  pep 13yearold boy love girl grandpar vilag sar...       2"
            ]
          },
          "metadata": {
            "tags": []
          },
          "execution_count": 8
        }
      ]
    },
    {
      "cell_type": "code",
      "metadata": {
        "id": "AIq_7MMKntJ6"
      },
      "source": [
        "dtf_train, dtf_test = train_test_split(dtf, test_size=0.2, random_state=42, stratify=dtf['labels'].values)"
      ],
      "execution_count": null,
      "outputs": []
    },
    {
      "cell_type": "code",
      "metadata": {
        "id": "yco1kxFzp1zl"
      },
      "source": [
        "y_train = dtf_train[\"labels\"].values\n",
        "y_test = dtf_test[\"labels\"].values"
      ],
      "execution_count": null,
      "outputs": []
    },
    {
      "cell_type": "code",
      "metadata": {
        "colab": {
          "base_uri": "https://localhost:8080/"
        },
        "id": "wAl-h95zfelK",
        "outputId": "92bfab69-8bb5-4a52-defb-30498d5acaca"
      },
      "source": [
        "print(f\"Numbers of train instances by class: {np.bincount(y_train)}\")\n",
        "print(f\"Numbers of test instances by class: {np.bincount(y_test)}\")"
      ],
      "execution_count": null,
      "outputs": [
        {
          "output_type": "stream",
          "text": [
            "Numbers of train instances by class: [    0     0 19812     0     0  4402     0     0 18637  4066     0  9643]\n",
            "Numbers of test instances by class: [   0    0 4954    0    0 1100    0    0 4660 1016    0 2411]\n"
          ],
          "name": "stdout"
        }
      ]
    },
    {
      "cell_type": "markdown",
      "metadata": {
        "id": "gFF0jDBuoCkx"
      },
      "source": [
        "## 5 - implementing naive bayes"
      ]
    },
    {
      "cell_type": "code",
      "metadata": {
        "id": "udUZMGNPxoEt"
      },
      "source": [
        "vectorizer = TfidfVectorizer(max_features=20000, ngram_range=(1,2))"
      ],
      "execution_count": null,
      "outputs": []
    },
    {
      "cell_type": "code",
      "metadata": {
        "id": "Z56pW3eVkE_H"
      },
      "source": [
        "corpus = dtf_train[\"clean\"]\n",
        "vectorizer.fit(corpus)\n",
        "X_train = vectorizer.transform(corpus)\n",
        "dic_vocabulary = vectorizer.vocabulary_"
      ],
      "execution_count": null,
      "outputs": []
    },
    {
      "cell_type": "code",
      "metadata": {
        "id": "qtL9xIgpqT0z"
      },
      "source": [
        "# import seaborn as sns\n",
        "# sns.heatmap(X_train.todense()[:,np.random.randint(0,X.shape[1],100)]==0, vmin=0, vmax=1, cbar=False).set_title('Sparse Matrix Sample')"
      ],
      "execution_count": null,
      "outputs": []
    },
    {
      "cell_type": "code",
      "metadata": {
        "colab": {
          "base_uri": "https://localhost:8080/"
        },
        "id": "z0-Ry17Skfgk",
        "outputId": "5951defc-e194-4c43-f010-38b7f218dc45"
      },
      "source": [
        "word = \"adventur\"\n",
        "dic_vocabulary[word]"
      ],
      "execution_count": null,
      "outputs": [
        {
          "output_type": "execute_result",
          "data": {
            "text/plain": [
              "477"
            ]
          },
          "metadata": {
            "tags": []
          },
          "execution_count": 210
        }
      ]
    },
    {
      "cell_type": "code",
      "metadata": {
        "id": "A1MvZSF7khbh"
      },
      "source": [
        "from sklearn import feature_selection\n",
        "\n",
        "y = dtf_train[\"labels\"]\n",
        "X_names = vectorizer.get_feature_names()\n",
        "p_value_limit = 0.95\n",
        "dtf_features = pd.DataFrame()\n",
        "for cat in np.unique(y):\n",
        "    chi2, p = feature_selection.chi2(X_train, y==cat)\n",
        "    dtf_features = dtf_features.append(pd.DataFrame(\n",
        "                   {\"feature\":X_names, \"score\":1-p, \"y\":cat}))\n",
        "    dtf_features = dtf_features.sort_values([\"y\",\"score\"], \n",
        "                    ascending=[True,False])\n",
        "    dtf_features = dtf_features[dtf_features[\"score\"]>p_value_limit]\n",
        "X_names = dtf_features[\"feature\"].unique().tolist()"
      ],
      "execution_count": null,
      "outputs": []
    },
    {
      "cell_type": "code",
      "metadata": {
        "colab": {
          "base_uri": "https://localhost:8080/"
        },
        "id": "8l2UtaiKlfRK",
        "outputId": "528175fe-5e54-4ed9-c0c7-41f60d43560c"
      },
      "source": [
        "for cat in np.unique(y):\n",
        "   print(\"# {}:\".format(cat))\n",
        "   print(list(label_dict.keys())[list(label_dict.values()).index(cat)])\n",
        "   print(\"  . selected features:\",\n",
        "         len(dtf_features[dtf_features[\"y\"]==cat]))\n",
        "   print(\"  . top features:\", \",\".join(\n",
        "dtf_features[dtf_features[\"y\"]==cat][\"feature\"].values[:10]))\n",
        "   print(\" \")"
      ],
      "execution_count": null,
      "outputs": [
        {
          "output_type": "stream",
          "text": [
            "# 2:\n",
            "drama\n",
            "  . selected features: 695\n",
            "  . top features: comedi,drama,kiler,mother,gang,stori,cop,love,gangster,murder\n",
            " \n",
            "# 5:\n",
            "crime\n",
            "  . selected features: 592\n",
            "  . top features: crime,crimin,detect,investig,murder,polic,serial,kiler,serial kiler,roberi\n",
            " \n",
            "# 8:\n",
            "comedy\n",
            "  . selected features: 832\n",
            "  . top features: comedi,murder,romant comedi,wede,romant,war,hilari,kile,comic,funi\n",
            " \n",
            "# 9:\n",
            "horor\n",
            "  . selected features: 1003\n",
            "  . top features: creatur,curs,demon,evil spirit,ghost,halowen,haunt,horor,kiler,paranorm\n",
            " \n",
            "# 11:\n",
            "action\n",
            "  . selected features: 1317\n",
            "  . top features: agent,asasin,aveng,batl,cop,fight,gang,martial,martial art,mercenari\n",
            " \n"
          ],
          "name": "stdout"
        }
      ]
    },
    {
      "cell_type": "code",
      "metadata": {
        "id": "-BAA9L0EmORz"
      },
      "source": [
        "vectorizer = TfidfVectorizer(vocabulary=X_names)\n",
        "vectorizer.fit(corpus)\n",
        "X_train = vectorizer.transform(corpus)\n",
        "dic_vocabulary = vectorizer.vocabulary_"
      ],
      "execution_count": null,
      "outputs": []
    },
    {
      "cell_type": "code",
      "metadata": {
        "id": "ZMyjVX6DrbR2"
      },
      "source": [
        "from sklearn import naive_bayes\n",
        "classifier = naive_bayes.MultinomialNB()"
      ],
      "execution_count": null,
      "outputs": []
    },
    {
      "cell_type": "code",
      "metadata": {
        "colab": {
          "base_uri": "https://localhost:8080/"
        },
        "id": "6yug5aHQrlZK",
        "outputId": "ae1d6e65-a1c1-463c-b801-0841edce05b2"
      },
      "source": [
        "from sklearn import pipeline\n",
        "model = pipeline.Pipeline([(\"vectorizer\", vectorizer),(\"classifier\", classifier)])\n",
        "model[\"classifier\"].fit(X_train, y_train)"
      ],
      "execution_count": null,
      "outputs": [
        {
          "output_type": "execute_result",
          "data": {
            "text/plain": [
              "MultinomialNB(alpha=1.0, class_prior=None, fit_prior=True)"
            ]
          },
          "metadata": {
            "tags": []
          },
          "execution_count": 215
        }
      ]
    },
    {
      "cell_type": "code",
      "metadata": {
        "id": "c1NOctYcz9H7"
      },
      "source": [
        "X_test = dtf_test[\"clean\"].values\n",
        "predicted = model.predict(X_test)\n",
        "predicted_prob = model.predict_proba(X_test)"
      ],
      "execution_count": null,
      "outputs": []
    },
    {
      "cell_type": "code",
      "metadata": {
        "colab": {
          "base_uri": "https://localhost:8080/",
          "height": 829
        },
        "id": "9OEFwBMcr_qf",
        "outputId": "94e503d1-7e29-4539-9913-7b050dcd02a2"
      },
      "source": [
        "y_test_array = pd.get_dummies(y_test, drop_first=False).values\n",
        "classes = np.unique(y_test)\n",
        "class_names = []\n",
        "for i in list(np.unique(y_test)):\n",
        "  class_names.append(list(label_dict.keys())[list(label_dict.values()).index(i)])\n",
        "    \n",
        "## Accuracy, Precision, Recall\n",
        "accuracy = accuracy_score(y_test, predicted)\n",
        "auc_score = roc_auc_score(y_test, predicted_prob, \n",
        "                            multi_class=\"ovr\")\n",
        "print(\"Accuracy:\",  round(accuracy,2))\n",
        "print(\"Auc:\", round(auc_score,2))\n",
        "print(\"Detail:\")\n",
        "print(classification_report(y_test, predicted, target_names=class_names))\n",
        "\n",
        "fig, ax = plt.subplots(nrows=1, ncols=2)\n",
        "## Plot roc\n",
        "for i in range(len(classes)):\n",
        "    fpr, tpr, thresholds = roc_curve(y_test_array[:,i],  \n",
        "                           predicted_prob[:,i])\n",
        "    ax[0].plot(fpr, tpr, lw=3, \n",
        "              label='{0} (area={1:0.2f})'.format(list(label_dict.keys())[list(label_dict.values()).index(classes[i])], \n",
        "                              auc(fpr, tpr))\n",
        "               )\n",
        "ax[0].plot([0,1], [0,1], color='navy', lw=3, linestyle='--')\n",
        "ax[0].set(xlim=[-0.05,1.0], ylim=[0.0,1.05], \n",
        "          xlabel='False Positive Rate', \n",
        "          ylabel=\"True Positive Rate (Recall)\", \n",
        "          title=\"Receiver operating characteristic\")\n",
        "ax[0].legend(loc=\"lower right\")\n",
        "ax[0].grid(True)\n",
        "    \n",
        "## Plot precision-recall curve\n",
        "for i in range(len(classes)):\n",
        "    precision, recall, thresholds = precision_recall_curve(\n",
        "                 y_test_array[:,i], predicted_prob[:,i])\n",
        "    ax[1].plot(recall, precision, lw=3, \n",
        "               label='{0} (area={1:0.2f})'.format(list(label_dict.keys())[list(label_dict.values()).index(classes[i])], \n",
        "                                  auc(recall, precision))\n",
        "              )\n",
        "ax[1].set(xlim=[0.0,1.05], ylim=[0.0,1.05], xlabel='Recall', \n",
        "          ylabel=\"Precision\", title=\"Precision-Recall curve\")\n",
        "ax[1].legend(loc=\"best\")\n",
        "ax[1].grid(True)\n",
        "plt.show()\n",
        "\n",
        "plot_confusion_matrix(model, X_test, y_test)  "
      ],
      "execution_count": null,
      "outputs": [
        {
          "output_type": "stream",
          "text": [
            "Accuracy: 0.57\n",
            "Auc: 0.83\n",
            "Detail:\n",
            "              precision    recall  f1-score   support\n",
            "\n",
            "       drama       0.54      0.69      0.60      7432\n",
            "       crime       0.51      0.11      0.19      1650\n",
            "      comedy       0.58      0.61      0.60      6980\n",
            "       horor       0.62      0.27      0.38      1508\n",
            "      action       0.62      0.54      0.58      3641\n",
            "\n",
            "    accuracy                           0.57     21211\n",
            "   macro avg       0.57      0.45      0.47     21211\n",
            "weighted avg       0.57      0.57      0.55     21211\n",
            "\n"
          ],
          "name": "stdout"
        },
        {
          "output_type": "display_data",
          "data": {
            "image/png": "[encoded data removed]",
            "text/plain": [
              "<Figure size 432x288 with 2 Axes>"
            ]
          },
          "metadata": {
            "tags": [],
            "needs_background": "light"
          }
        },
        {
          "output_type": "execute_result",
          "data": {
            "text/plain": [
              "<sklearn.metrics._plot.confusion_matrix.ConfusionMatrixDisplay at 0x7fbebeebc150>"
            ]
          },
          "metadata": {
            "tags": []
          },
          "execution_count": 217
        },
        {
          "output_type": "display_data",
          "data": {
            "image/png": "[encoded data removed]",
            "text/plain": [
              "<Figure size 432x288 with 2 Axes>"
            ]
          },
          "metadata": {
            "tags": [],
            "needs_background": "light"
          }
        }
      ]
    },
    {
      "cell_type": "markdown",
      "metadata": {
        "id": "HcTQdXhjPhLf"
      },
      "source": [
        "## 5 - word embedding"
      ]
    },
    {
      "cell_type": "code",
      "metadata": {
        "id": "MVnOLjSTQChb"
      },
      "source": [
        "corpus = dtf_train[\"clean\"]\n",
        "\n",
        "lst_corpus = []\n",
        "for string in corpus:\n",
        "   lst_words = string.split()\n",
        "   lst_grams = [\" \".join(lst_words[i:i+1]) \n",
        "               for i in range(0, len(lst_words), 1)]\n",
        "   lst_corpus.append(lst_grams)\n",
        "\n",
        "## detect bigrams and trigrams\n",
        "bigrams_detector = gensim.models.phrases.Phrases(lst_corpus, \n",
        "                 delimiter=\" \".encode(), min_count=5, threshold=10)\n",
        "bigrams_detector = gensim.models.phrases.Phraser(bigrams_detector)\n",
        "trigrams_detector = gensim.models.phrases.Phrases(bigrams_detector[lst_corpus], \n",
        "            delimiter=\" \".encode(), min_count=5, threshold=10)\n",
        "trigrams_detector = gensim.models.phrases.Phraser(trigrams_detector)"
      ],
      "execution_count": null,
      "outputs": []
    },
    {
      "cell_type": "code",
      "metadata": {
        "id": "ZNJoPL7IRZ9B"
      },
      "source": [
        "# import math\n",
        "# total_words = 0\n",
        "# for text in corpus:\n",
        "#   total_words += len(text)\n",
        "# avg = int(math.ceil(total_words / len(corpus)))\n",
        "# nlp = gensim.models.word2vec.Word2Vec(lst_corpus, size=300,   \n",
        "#             window=avg, min_count=1, sg=1, iter=30)\n",
        "\n",
        "# nlp.wv.save_word2vec_format('word2vec.bin', binary=True)"
      ],
      "execution_count": null,
      "outputs": []
    },
    {
      "cell_type": "code",
      "metadata": {
        "id": "Lhu4LXSpTxF7"
      },
      "source": [
        "nlp = gensim.models.KeyedVectors.load_word2vec_format('/content/gdrive/MyDrive/word2vec.bin', binary=True)"
      ],
      "execution_count": null,
      "outputs": []
    },
    {
      "cell_type": "code",
      "metadata": {
        "colab": {
          "base_uri": "https://localhost:8080/"
        },
        "id": "Pd3ihZAURuHy",
        "outputId": "7ab37eb1-1a65-43dd-8d5d-ce7ea5f585f3"
      },
      "source": [
        "word = 'adventur'\n",
        "nlp.__getitem__(word).shape"
      ],
      "execution_count": null,
      "outputs": [
        {
          "output_type": "execute_result",
          "data": {
            "text/plain": [
              "(300,)"
            ]
          },
          "metadata": {
            "tags": []
          },
          "execution_count": 16
        }
      ]
    },
    {
      "cell_type": "code",
      "metadata": {
        "id": "wf_NAPuFV85i"
      },
      "source": [
        "import tensorflow as tf\n",
        "from tensorflow import keras\n",
        "from keras import preprocessing"
      ],
      "execution_count": null,
      "outputs": []
    },
    {
      "cell_type": "code",
      "metadata": {
        "id": "3NY14d1cUGhs"
      },
      "source": [
        "tokenizer = preprocessing.text.Tokenizer(lower=True, split=' ', \n",
        "                     oov_token=\"NaN\", \n",
        "                     filters='!\"#$%&()*+,-./:;<=>?@[\\\\]^_`{|}~\\t\\n')\n",
        "tokenizer.fit_on_texts(lst_corpus)\n",
        "dic_vocabulary = tokenizer.word_index\n",
        "## create sequence\n",
        "lst_text2seq= tokenizer.texts_to_sequences(lst_corpus)\n",
        "## padding sequence\n",
        "X_train = preprocessing.sequence.pad_sequences(lst_text2seq, padding=\"post\", truncating=\"post\")"
      ],
      "execution_count": null,
      "outputs": []
    },
    {
      "cell_type": "code",
      "metadata": {
        "colab": {
          "base_uri": "https://localhost:8080/",
          "height": 269
        },
        "id": "MeaAO8aKWwph",
        "outputId": "c34df51a-d6b6-4fc6-bbcf-04db81ded2b0"
      },
      "source": [
        "import seaborn as sns\n",
        "sns.heatmap(X_train==0, vmin=0, vmax=1, cbar=False)\n",
        "plt.show()"
      ],
      "execution_count": null,
      "outputs": [
        {
          "output_type": "display_data",
          "data": {
            "image/png": "[encoded data removed]",
            "text/plain": [
              "<Figure size 432x288 with 1 Axes>"
            ]
          },
          "metadata": {
            "tags": [],
            "needs_background": "light"
          }
        }
      ]
    },
    {
      "cell_type": "code",
      "metadata": {
        "colab": {
          "base_uri": "https://localhost:8080/"
        },
        "id": "thP16NJkW9Or",
        "outputId": "052598eb-31db-4881-e564-290b518b6aad"
      },
      "source": [
        "i = 0\n",
        "len_txt = len(dtf_train[\"clean\"].iloc[i].split())\n",
        "print(\"from: \", dtf_train[\"clean\"].iloc[i], \"| len:\", len_txt)\n",
        "\n",
        "\n",
        "len_tokens = len(X_train[i])\n",
        "print(\"to: \", X_train[i], \"| len:\", len(X_train[i]))\n",
        "\n",
        "\n",
        "print(\"check: \", dtf_train[\"clean\"].iloc[i].split()[0], \n",
        "      \" -- idx in vocabulary -->\", \n",
        "      dic_vocabulary[dtf_train[\"clean\"].iloc[i].split()[0]])\n",
        "\n",
        "print(\"vocabulary: \", dict(list(dic_vocabulary.items())[0:5]), \"... (padding element, 0)\")"
      ],
      "execution_count": null,
      "outputs": [
        {
          "output_type": "stream",
          "text": [
            "from:  law student uncov chile secret place life risk biter rougharoundtheedg detect get asign case | len: 14\n",
            "to:  [  495    72   605  2102    95   131     3  1074  1675 12642   155    13\n",
            "   452   250     0     0     0     0     0     0     0     0     0     0\n",
            "     0     0     0     0     0     0     0     0     0     0     0     0\n",
            "     0     0     0     0     0     0     0     0     0     0] | len: 46\n",
            "check:  law  -- idx in vocabulary --> 495\n",
            "vocabulary:  {'NaN': 1, 'young': 2, 'life': 3, 'man': 4, 'love': 5} ... (padding element, 0)\n"
          ],
          "name": "stdout"
        }
      ]
    },
    {
      "cell_type": "code",
      "metadata": {
        "id": "WK86abeZYClT"
      },
      "source": [
        "corpus = dtf_test[\"clean\"]\n",
        "\n",
        "## create list of n-grams\n",
        "lst_corpus = []\n",
        "for string in corpus:\n",
        "    lst_words = string.split()\n",
        "    lst_grams = [\" \".join(lst_words[i:i+1]) for i in range(0, \n",
        "                 len(lst_words), 1)]\n",
        "    lst_corpus.append(lst_grams)\n",
        "    \n",
        "## detect common bigrams and trigrams using the fitted detectors\n",
        "lst_corpus = list(bigrams_detector[lst_corpus])\n",
        "lst_corpus = list(trigrams_detector[lst_corpus])\n",
        "## text to sequence with the fitted tokenizer\n",
        "lst_text2seq = tokenizer.texts_to_sequences(lst_corpus)\n",
        "\n",
        "## padding sequence\n",
        "X_test = preprocessing.sequence.pad_sequences(lst_text2seq, maxlen=len(X_train[0]) ,padding=\"post\", truncating=\"post\")"
      ],
      "execution_count": null,
      "outputs": []
    },
    {
      "cell_type": "code",
      "metadata": {
        "id": "hCtHZj_maz1v"
      },
      "source": [
        "## start the matrix (length of vocabulary x vector size) with all 0s\n",
        "embeddings = np.zeros((len(dic_vocabulary)+1, 300))\n",
        "for word,idx in dic_vocabulary.items():\n",
        "    ## update the row with vector\n",
        "    try:\n",
        "        embeddings[idx] =  nlp.__getitem__(word)\n",
        "    ## if word not in model then skip and the row stays all 0s\n",
        "    except:\n",
        "        pass"
      ],
      "execution_count": null,
      "outputs": []
    },
    {
      "cell_type": "code",
      "metadata": {
        "id": "Pg-Rq9oObdEn"
      },
      "source": [
        "from tensorflow.keras import models, layers\n",
        "from tensorflow.keras import backend as K"
      ],
      "execution_count": null,
      "outputs": []
    },
    {
      "cell_type": "code",
      "metadata": {
        "colab": {
          "base_uri": "https://localhost:8080/"
        },
        "id": "gsqYj5OKbKJ1",
        "outputId": "689a4529-01f0-4125-e0dc-c8e055842876"
      },
      "source": [
        "## code attention layer\n",
        "def attention_layer(inputs, neurons):\n",
        "    x = layers.Permute((2,1))(inputs)\n",
        "    x = layers.Dense(neurons, activation=\"softmax\")(x)\n",
        "    x = layers.Permute((2,1), name=\"attention\")(x)\n",
        "    x = layers.multiply([inputs, x])\n",
        "    return x\n",
        "\n",
        "## input\n",
        "x_in = layers.Input(shape=(len(X_train[0]),))\n",
        "## embedding\n",
        "x = layers.Embedding(input_dim=embeddings.shape[0],  \n",
        "                     output_dim=embeddings.shape[1], \n",
        "                     weights=[embeddings],\n",
        "                     input_length=len(X_train[0]), trainable=False)(x_in)\n",
        "## apply attention\n",
        "x = attention_layer(x, neurons=len(X_train[0]))\n",
        "## 2 layers of bidirectional lstm\n",
        "x = layers.Bidirectional(layers.LSTM(units=len(X_train[0]), dropout=0.2, \n",
        "                         return_sequences=True))(x)\n",
        "x = layers.Bidirectional(layers.LSTM(units=len(X_train[0]), dropout=0.2))(x)\n",
        "## final dense layers\n",
        "x = layers.Dense(64, activation='relu')(x)\n",
        "y_out = layers.Dense(5, activation='softmax')(x)\n",
        "## compile\n",
        "model = models.Model(x_in, y_out)\n",
        "model.compile(loss='sparse_categorical_crossentropy',\n",
        "              optimizer='adam', metrics=['accuracy'])\n",
        "\n",
        "model.summary()"
      ],
      "execution_count": null,
      "outputs": [
        {
          "output_type": "stream",
          "text": [
            "Model: \"model\"\n",
            "__________________________________________________________________________________________________\n",
            "Layer (type)                    Output Shape         Param #     Connected to                     \n",
            "==================================================================================================\n",
            "input_1 (InputLayer)            [(None, 46)]         0                                            \n",
            "__________________________________________________________________________________________________\n",
            "embedding (Embedding)           (None, 46, 300)      13440900    input_1[0][0]                    \n",
            "__________________________________________________________________________________________________\n",
            "permute (Permute)               (None, 300, 46)      0           embedding[0][0]                  \n",
            "__________________________________________________________________________________________________\n",
            "dense (Dense)                   (None, 300, 46)      2162        permute[0][0]                    \n",
            "__________________________________________________________________________________________________\n",
            "attention (Permute)             (None, 46, 300)      0           dense[0][0]                      \n",
            "__________________________________________________________________________________________________\n",
            "multiply (Multiply)             (None, 46, 300)      0           embedding[0][0]                  \n",
            "                                                                 attention[0][0]                  \n",
            "__________________________________________________________________________________________________\n",
            "bidirectional (Bidirectional)   (None, 46, 92)       127696      multiply[0][0]                   \n",
            "__________________________________________________________________________________________________\n",
            "bidirectional_1 (Bidirectional) (None, 92)           51152       bidirectional[0][0]              \n",
            "__________________________________________________________________________________________________\n",
            "dense_1 (Dense)                 (None, 64)           5952        bidirectional_1[0][0]            \n",
            "__________________________________________________________________________________________________\n",
            "dense_2 (Dense)                 (None, 5)            325         dense_1[0][0]                    \n",
            "==================================================================================================\n",
            "Total params: 13,628,187\n",
            "Trainable params: 187,287\n",
            "Non-trainable params: 13,440,900\n",
            "__________________________________________________________________________________________________\n"
          ],
          "name": "stdout"
        }
      ]
    },
    {
      "cell_type": "code",
      "metadata": {
        "colab": {
          "base_uri": "https://localhost:8080/",
          "height": 295
        },
        "id": "d5e_ehClbhWO",
        "outputId": "84b39875-cf54-490d-86f7-1c7ca9a8e00d"
      },
      "source": [
        "## encode y\n",
        "# dic_y_mapping = {n:label for n,label in \n",
        "#                  enumerate(np.unique(y_train))}\n",
        "# inverse_dic = {v:k for k,v in dic_y_mapping.items()}\n",
        "dic_y_mapping = {}\n",
        "true_labels = np.unique(y_test)\n",
        "for i in range(len(true_labels)):\n",
        "  dic_y_mapping[i] = true_labels[i]\n",
        "inverse_dic = {v:k for k,v in dic_y_mapping.items()}\n",
        "\n",
        "y_train = np.array([inverse_dic[y] for y in y_train])\n",
        "## train\n",
        "training = model.fit(x=X_train, y=y_train, batch_size=256, \n",
        "                     epochs=10, shuffle=True, verbose=0, \n",
        "                     validation_split=0.3)\n",
        "## plot loss and accuracy\n",
        "metrics = [k for k in training.history.keys() if (\"loss\" not in k) and (\"val\" not in k)]\n",
        "fig, ax = plt.subplots(nrows=1, ncols=2, sharey=True)\n",
        "ax[0].set(title=\"Training\")\n",
        "ax11 = ax[0].twinx()\n",
        "ax[0].plot(training.history['loss'], color='black')\n",
        "ax[0].set_xlabel('Epochs')\n",
        "ax[0].set_ylabel('Loss', color='black')\n",
        "for metric in metrics:\n",
        "    ax11.plot(training.history[metric], label=metric)\n",
        "ax11.set_ylabel(\"Score\", color='steelblue')\n",
        "ax11.legend()\n",
        "ax[1].set(title=\"Validation\")\n",
        "ax22 = ax[1].twinx()\n",
        "ax[1].plot(training.history['val_loss'], color='black')\n",
        "ax[1].set_xlabel('Epochs')\n",
        "ax[1].set_ylabel('Loss', color='black')\n",
        "for metric in metrics:\n",
        "     ax22.plot(training.history['val_'+metric], label=metric)\n",
        "ax22.set_ylabel(\"Score\", color=\"steelblue\")\n",
        "plt.show()\n"
      ],
      "execution_count": null,
      "outputs": [
        {
          "output_type": "display_data",
          "data": {
            "image/png": "[encoded data removed]",
            "text/plain": [
              "<Figure size 432x288 with 4 Axes>"
            ]
          },
          "metadata": {
            "tags": [],
            "needs_background": "light"
          }
        }
      ]
    },
    {
      "cell_type": "code",
      "metadata": {
        "id": "-WVbDdJWcfTF"
      },
      "source": [
        "predicted_prob = model.predict(X_test)\n",
        "predicted = [dic_y_mapping[np.argmax(pred)] for pred in \n",
        "             predicted_prob]"
      ],
      "execution_count": null,
      "outputs": []
    },
    {
      "cell_type": "code",
      "metadata": {
        "colab": {
          "base_uri": "https://localhost:8080/",
          "height": 845
        },
        "id": "fe5b8SfkF6-p",
        "outputId": "a4710bca-12a7-4865-fdd4-75ff3c86f8ce"
      },
      "source": [
        "y_test_array = pd.get_dummies(y_test, drop_first=False).values\n",
        "classes = np.unique(y_test)\n",
        "class_names = []\n",
        "for i in list(np.unique(y_test)):\n",
        "  class_names.append(list(label_dict.keys())[list(label_dict.values()).index(i)])\n",
        "    \n",
        "## Accuracy, Precision, Recall\n",
        "accuracy = accuracy_score(y_test, predicted)\n",
        "auc_score = roc_auc_score(y_test, predicted_prob, \n",
        "                            multi_class=\"ovr\")\n",
        "print(\"Accuracy:\",  round(accuracy,2))\n",
        "print(\"Auc:\", round(auc_score,2))\n",
        "print(\"Detail:\")\n",
        "print(classification_report(y_test, predicted, target_names=class_names))\n",
        "\n",
        "fig, ax = plt.subplots(nrows=1, ncols=2)\n",
        "## Plot roc\n",
        "for i in range(len(classes)):\n",
        "    fpr, tpr, thresholds = roc_curve(y_test_array[:,i],  \n",
        "                           predicted_prob[:,i])\n",
        "    ax[0].plot(fpr, tpr, lw=3, \n",
        "              label='{0} (area={1:0.2f})'.format(list(label_dict.keys())[list(label_dict.values()).index(classes[i])], \n",
        "                              auc(fpr, tpr))\n",
        "               )\n",
        "ax[0].plot([0,1], [0,1], color='navy', lw=3, linestyle='--')\n",
        "ax[0].set(xlim=[-0.05,1.0], ylim=[0.0,1.05], \n",
        "          xlabel='False Positive Rate', \n",
        "          ylabel=\"True Positive Rate (Recall)\", \n",
        "          title=\"Receiver operating characteristic\")\n",
        "ax[0].legend(loc=\"lower right\")\n",
        "ax[0].grid(True)\n",
        "    \n",
        "## Plot precision-recall curve\n",
        "for i in range(len(classes)):\n",
        "    precision, recall, thresholds = precision_recall_curve(\n",
        "                 y_test_array[:,i], predicted_prob[:,i])\n",
        "    ax[1].plot(recall, precision, lw=3, \n",
        "               label='{0} (area={1:0.2f})'.format(list(label_dict.keys())[list(label_dict.values()).index(classes[i])], \n",
        "                                  auc(recall, precision))\n",
        "              )\n",
        "ax[1].set(xlim=[0.0,1.05], ylim=[0.0,1.05], xlabel='Recall', \n",
        "          ylabel=\"Precision\", title=\"Precision-Recall curve\")\n",
        "ax[1].legend(loc=\"best\")\n",
        "ax[1].grid(True)\n",
        "plt.show()\n",
        "\n",
        "cm = confusion_matrix(y_test, predicted)\n",
        "fig, ax = plt.subplots()\n",
        "sns.heatmap(cm, annot=True, fmt='d', ax=ax, cmap=plt.cm.Blues, \n",
        "            cbar=False)\n",
        "ax.set(xlabel=\"Pred\", ylabel=\"True\", xticklabels=class_names, \n",
        "       yticklabels=class_names, title=\"Confusion matrix\")\n",
        "plt.yticks(rotation=0)"
      ],
      "execution_count": null,
      "outputs": [
        {
          "output_type": "stream",
          "text": [
            "Accuracy: 0.56\n",
            "Auc: 0.82\n",
            "Detail:\n",
            "              precision    recall  f1-score   support\n",
            "\n",
            "       drama       0.58      0.59      0.59      7394\n",
            "       crime       0.41      0.17      0.24      1670\n",
            "      comedy       0.57      0.65      0.60      7075\n",
            "       horor       0.46      0.53      0.49      1479\n",
            "      action       0.58      0.52      0.55      3593\n",
            "\n",
            "    accuracy                           0.56     21211\n",
            "   macro avg       0.52      0.49      0.49     21211\n",
            "weighted avg       0.55      0.56      0.55     21211\n",
            "\n"
          ],
          "name": "stdout"
        },
        {
          "output_type": "display_data",
          "data": {
            "image/png": "[encoded data removed]",
            "text/plain": [
              "<Figure size 432x288 with 2 Axes>"
            ]
          },
          "metadata": {
            "tags": [],
            "needs_background": "light"
          }
        },
        {
          "output_type": "execute_result",
          "data": {
            "text/plain": [
              "(array([0.5, 1.5, 2.5, 3.5, 4.5]), <a list of 5 Text major ticklabel objects>)"
            ]
          },
          "metadata": {
            "tags": []
          },
          "execution_count": 32
        },
        {
          "output_type": "display_data",
          "data": {
            "image/png": "[encoded data removed]",
            "text/plain": [
              "<Figure size 432x288 with 1 Axes>"
            ]
          },
          "metadata": {
            "tags": [],
            "needs_background": "light"
          }
        }
      ]
    },
    {
      "cell_type": "code",
      "metadata": {
        "id": "W3IyjI-GezVN"
      },
      "source": [
        "from sklearn import preprocessing as sklpreprocessing"
      ],
      "execution_count": null,
      "outputs": []
    },
    {
      "cell_type": "code",
      "metadata": {
        "colab": {
          "base_uri": "https://localhost:8080/",
          "height": 316
        },
        "id": "OkKW2xSBeLW3",
        "outputId": "b6b66723-38d8-40b4-b681-227ed941e7b6"
      },
      "source": [
        "## select observation\n",
        "i = 5\n",
        "txt_instance = dtf_test[\"clean\"].iloc[i]\n",
        "## check true value and predicted value\n",
        "print(\"True:\", list(label_dict.keys())[list(label_dict.values()).index(y_test[i])], \"--> Pred:\", list(label_dict.keys())[list(label_dict.values()).index(predicted[i])], \"| Prob:\", round(np.max(predicted_prob[i]),2))\n",
        "\n",
        "## show explanation\n",
        "### 1. preprocess input\n",
        "lst_corpus = []\n",
        "for string in [re.sub(r'[^\\w\\s]','', txt_instance.lower().strip())]:\n",
        "    lst_words = string.split()\n",
        "    lst_grams = [\" \".join(lst_words[i:i+1]) for i in range(0, \n",
        "                 len(lst_words), 1)]\n",
        "    lst_corpus.append(lst_grams)\n",
        "lst_corpus = list(bigrams_detector[lst_corpus])\n",
        "lst_corpus = list(trigrams_detector[lst_corpus])\n",
        "X_instance = preprocessing.sequence.pad_sequences(\n",
        "              tokenizer.texts_to_sequences(corpus), maxlen=len(X_test[0]), \n",
        "              padding=\"post\", truncating=\"post\")\n",
        "### 2. get attention weights\n",
        "layer = [layer for layer in model.layers if \"attention\" in \n",
        "         layer.name][0]\n",
        "func = K.function([model.input], [layer.output])\n",
        "weights = func(X_instance)[0]\n",
        "weights = np.mean(weights, axis=2).flatten()\n",
        "### 3. rescale weights, remove null vector, map word-weight\n",
        "weights = sklpreprocessing.MinMaxScaler(feature_range=(0,1)).fit_transform(np.array(weights).reshape(-1,1)).reshape(-1)\n",
        "weights = [weights[n] for n,idx in enumerate(X_instance[0]) if idx \n",
        "           != 0]\n",
        "dic_word_weigth = {word:weights[n] for n,word in \n",
        "                   enumerate(lst_corpus[0]) if word in \n",
        "                   tokenizer.word_index.keys()}\n",
        "### 4. barplot\n",
        "if len(dic_word_weigth) > 0:\n",
        "   dtf = pd.DataFrame.from_dict(dic_word_weigth, orient='index', \n",
        "                                columns=[\"score\"])\n",
        "   dtf.sort_values(by=\"score\", \n",
        "           ascending=True).tail().plot(kind=\"barh\", \n",
        "           legend=False).grid(axis='x')\n",
        "   plt.show()\n",
        "else:\n",
        "   print(\"--- No word recognized ---\")\n",
        "### 5. produce html visualization\n",
        "text = []\n",
        "for word in lst_corpus[0]:\n",
        "    weight = dic_word_weigth.get(word)\n",
        "    if weight is not None:\n",
        "         text.append('<b><span style=\"background-color:rgba(100,149,237,' + str(weight) + ');\">' + word + '</span></b>')\n",
        "    else:\n",
        "         text.append(word)\n",
        "text = ' '.join(text)\n",
        "### 6. visualize on notebook\n",
        "print(\"\\033[1m\"+\"Text with highlighted words\")\n",
        "from IPython.core.display import display, HTML\n",
        "display(HTML(text))\n"
      ],
      "execution_count": null,
      "outputs": [
        {
          "output_type": "stream",
          "text": [
            "True: horor --> Pred: action | Prob: 0.41\n"
          ],
          "name": "stdout"
        },
        {
          "output_type": "display_data",
          "data": {
            "image/png": "[encoded data removed]",
            "text/plain": [
              "<Figure size 432x288 with 1 Axes>"
            ]
          },
          "metadata": {
            "tags": [],
            "needs_background": "light"
          }
        },
        {
          "output_type": "stream",
          "text": [
            "\u001b[1mText with highlighted words\n"
          ],
          "name": "stdout"
        },
        {
          "output_type": "display_data",
          "data": {
            "text/html": [
              "<b><span style=\"background-color:rgba(100,149,237,0.88908446);\">night</span></b> <b><span style=\"background-color:rgba(100,149,237,0.7744936);\">girl</span></b> <b><span style=\"background-color:rgba(100,149,237,0.63618696);\">slain</span></b> <b><span style=\"background-color:rgba(100,149,237,0.61436856);\">wod</span></b> <b><span style=\"background-color:rgba(100,149,237,0.4964091);\">tenag</span></b> <b><span style=\"background-color:rgba(100,149,237,0.4657764);\">sam</span></b> <b><span style=\"background-color:rgba(100,149,237,0.4332182);\">le</span></b> <b><span style=\"background-color:rgba(100,149,237,0.37878326);\">robe</span></b> <b><span style=\"background-color:rgba(100,149,237,0.42796078);\">al</span></b> <b><span style=\"background-color:rgba(100,149,237,0.36083242);\">hard</span></b> <b><span style=\"background-color:rgba(100,149,237,0.35585746);\">earn</span></b> <b><span style=\"background-color:rgba(100,149,237,0.394352);\">hen</span></b> <b><span style=\"background-color:rgba(100,149,237,0.41785517);\">quest</span></b> <b><span style=\"background-color:rgba(100,149,237,0.394352);\">hen</span></b> <b><span style=\"background-color:rgba(100,149,237,0.42401096);\">cro</span></b> <b><span style=\"background-color:rgba(100,149,237,0.40612748);\">murder</span></b> <b><span style=\"background-color:rgba(100,149,237,0.51867974);\">path</span></b>"
            ],
            "text/plain": [
              "<IPython.core.display.HTML object>"
            ]
          },
          "metadata": {
            "tags": []
          }
        }
      ]
    },
    {
      "cell_type": "markdown",
      "metadata": {
        "id": "175xLlwYi3u-"
      },
      "source": [
        "# 4 - modeling"
      ]
    },
    {
      "cell_type": "code",
      "metadata": {
        "id": "baOAoWATi-MZ"
      },
      "source": [
        "dtf = df[[\"clean\", \"labels\"]]"
      ],
      "execution_count": null,
      "outputs": []
    },
    {
      "cell_type": "code",
      "metadata": {
        "colab": {
          "base_uri": "https://localhost:8080/",
          "height": 419
        },
        "id": "eTle4NSnlDRf",
        "outputId": "27eb2eb7-7466-4b66-8b42-cc0f3bc4360b"
      },
      "source": [
        "dtf"
      ],
      "execution_count": null,
      "outputs": [
        {
          "output_type": "execute_result",
          "data": {
            "text/html": [
              "<div>\n",
              "<style scoped>\n",
              "    .dataframe tbody tr th:only-of-type {\n",
              "        vertical-align: middle;\n",
              "    }\n",
              "\n",
              "    .dataframe tbody tr th {\n",
              "        vertical-align: top;\n",
              "    }\n",
              "\n",
              "    .dataframe thead th {\n",
              "        text-align: right;\n",
              "    }\n",
              "</style>\n",
              "<table border=\"1\" class=\"dataframe\">\n",
              "  <thead>\n",
              "    <tr style=\"text-align: right;\">\n",
              "      <th></th>\n",
              "      <th>clean</th>\n",
              "      <th>labels</th>\n",
              "    </tr>\n",
              "  </thead>\n",
              "  <tbody>\n",
              "    <tr>\n",
              "      <th>2</th>\n",
              "      <td>two men high rank wo beauti famou equestrian a...</td>\n",
              "      <td>7</td>\n",
              "    </tr>\n",
              "    <tr>\n",
              "      <th>9</th>\n",
              "      <td>richard gloucest use manipul murder gain engli...</td>\n",
              "      <td>7</td>\n",
              "    </tr>\n",
              "    <tr>\n",
              "      <th>10</th>\n",
              "      <td>dr friedrich wife becom mentali unstabl resear...</td>\n",
              "      <td>7</td>\n",
              "    </tr>\n",
              "    <tr>\n",
              "      <th>12</th>\n",
              "      <td>singl mother separ children due financi strugl</td>\n",
              "      <td>7</td>\n",
              "    </tr>\n",
              "    <tr>\n",
              "      <th>14</th>\n",
              "      <td>lesli swayn adventur order obtain enough money...</td>\n",
              "      <td>7</td>\n",
              "    </tr>\n",
              "    <tr>\n",
              "      <th>...</th>\n",
              "      <td>...</td>\n",
              "      <td>...</td>\n",
              "    </tr>\n",
              "    <tr>\n",
              "      <th>85834</th>\n",
              "      <td>kidnap gone wrong lead mount tension betwen pr...</td>\n",
              "      <td>18</td>\n",
              "    </tr>\n",
              "    <tr>\n",
              "      <th>85847</th>\n",
              "      <td>set trivandrum stori otam unfold day progres l...</td>\n",
              "      <td>7</td>\n",
              "    </tr>\n",
              "    <tr>\n",
              "      <th>85848</th>\n",
              "      <td>unusu bond betwen sixti year old dalit worker ...</td>\n",
              "      <td>7</td>\n",
              "    </tr>\n",
              "    <tr>\n",
              "      <th>85850</th>\n",
              "      <td>psychiatr hospit patient pretend crazi charg c...</td>\n",
              "      <td>4</td>\n",
              "    </tr>\n",
              "    <tr>\n",
              "      <th>85854</th>\n",
              "      <td>pep 13yearold boy love girl grandpar vilag sar...</td>\n",
              "      <td>7</td>\n",
              "    </tr>\n",
              "  </tbody>\n",
              "</table>\n",
              "<p>23408 rows × 2 columns</p>\n",
              "</div>"
            ],
            "text/plain": [
              "                                                   clean  labels\n",
              "2      two men high rank wo beauti famou equestrian a...       7\n",
              "9      richard gloucest use manipul murder gain engli...       7\n",
              "10     dr friedrich wife becom mentali unstabl resear...       7\n",
              "12        singl mother separ children due financi strugl       7\n",
              "14     lesli swayn adventur order obtain enough money...       7\n",
              "...                                                  ...     ...\n",
              "85834  kidnap gone wrong lead mount tension betwen pr...      18\n",
              "85847  set trivandrum stori otam unfold day progres l...       7\n",
              "85848  unusu bond betwen sixti year old dalit worker ...       7\n",
              "85850  psychiatr hospit patient pretend crazi charg c...       4\n",
              "85854  pep 13yearold boy love girl grandpar vilag sar...       7\n",
              "\n",
              "[23408 rows x 2 columns]"
            ]
          },
          "metadata": {
            "tags": []
          },
          "execution_count": 23
        }
      ]
    },
    {
      "cell_type": "code",
      "metadata": {
        "id": "CoDfkENakp5G"
      },
      "source": [
        "label_count = np.unique(dtf['labels'].values).shape[0]"
      ],
      "execution_count": null,
      "outputs": []
    },
    {
      "cell_type": "code",
      "metadata": {
        "id": "OY3ixiS4GtHN"
      },
      "source": [
        "dic_y_mapping = {}\n",
        "true_labels = list(np.unique(dtf['labels'].values))\n",
        "for i in range(label_count):\n",
        "  dic_y_mapping[i] = true_labels[i]\n",
        "inverse_dic = {v:k for k,v in dic_y_mapping.items()}"
      ],
      "execution_count": null,
      "outputs": []
    },
    {
      "cell_type": "code",
      "metadata": {
        "colab": {
          "base_uri": "https://localhost:8080/"
        },
        "id": "NXL-u43GGagE",
        "outputId": "042c2afc-edc9-42d1-a62a-010d18250a45"
      },
      "source": [
        "dic_y_mapping"
      ],
      "execution_count": null,
      "outputs": [
        {
          "output_type": "execute_result",
          "data": {
            "text/plain": [
              "{0: 0, 1: 4, 2: 7, 3: 11, 4: 18}"
            ]
          },
          "metadata": {
            "tags": []
          },
          "execution_count": 26
        }
      ]
    },
    {
      "cell_type": "markdown",
      "metadata": {
        "id": "pQ10aD24gjXp"
      },
      "source": [
        "## 5 - using bert"
      ]
    },
    {
      "cell_type": "code",
      "metadata": {
        "colab": {
          "base_uri": "https://localhost:8080/"
        },
        "id": "5reJplZ3grQL",
        "outputId": "36d7df81-e3b8-464e-ca51-1abf1348e5a5"
      },
      "source": [
        "pip install --upgrade transformers"
      ],
      "execution_count": null,
      "outputs": [
        {
          "output_type": "stream",
          "text": [
            "Collecting transformers\n",
            "\u001b[?25l  Downloading https://files.pythonhosted.org/packages/d8/b2/57495b5309f09fa501866e225c84532d1fd89536ea62406b2181933fb418/transformers-4.5.1-py3-none-any.whl (2.1MB)\n",
            "\u001b[K     |████████████████████████████████| 2.1MB 5.0MB/s \n",
            "\u001b[?25hRequirement already satisfied, skipping upgrade: packaging in /usr/local/lib/python3.7/dist-packages (from transformers) (20.9)\n",
            "Requirement already satisfied, skipping upgrade: tqdm>=4.27 in /usr/local/lib/python3.7/dist-packages (from transformers) (4.41.1)\n",
            "Requirement already satisfied, skipping upgrade: requests in /usr/local/lib/python3.7/dist-packages (from transformers) (2.23.0)\n",
            "Requirement already satisfied, skipping upgrade: importlib-metadata; python_version < \"3.8\" in /usr/local/lib/python3.7/dist-packages (from transformers) (3.10.0)\n",
            "Collecting sacremoses\n",
            "\u001b[?25l  Downloading https://files.pythonhosted.org/packages/08/cd/342e584ee544d044fb573ae697404ce22ede086c9e87ce5960772084cad0/sacremoses-0.0.44.tar.gz (862kB)\n",
            "\u001b[K     |████████████████████████████████| 870kB 33.0MB/s \n",
            "\u001b[?25hRequirement already satisfied, skipping upgrade: filelock in /usr/local/lib/python3.7/dist-packages (from transformers) (3.0.12)\n",
            "Collecting tokenizers<0.11,>=0.10.1\n",
            "\u001b[?25l  Downloading https://files.pythonhosted.org/packages/ae/04/5b870f26a858552025a62f1649c20d29d2672c02ff3c3fb4c688ca46467a/tokenizers-0.10.2-cp37-cp37m-manylinux2010_x86_64.whl (3.3MB)\n",
            "\u001b[K     |████████████████████████████████| 3.3MB 50.0MB/s \n",
            "\u001b[?25hRequirement already satisfied, skipping upgrade: regex!=2019.12.17 in /usr/local/lib/python3.7/dist-packages (from transformers) (2019.12.20)\n",
            "Requirement already satisfied, skipping upgrade: numpy>=1.17 in /usr/local/lib/python3.7/dist-packages (from transformers) (1.19.5)\n",
            "Requirement already satisfied, skipping upgrade: pyparsing>=2.0.2 in /usr/local/lib/python3.7/dist-packages (from packaging->transformers) (2.4.7)\n",
            "Requirement already satisfied, skipping upgrade: idna<3,>=2.5 in /usr/local/lib/python3.7/dist-packages (from requests->transformers) (2.10)\n",
            "Requirement already satisfied, skipping upgrade: urllib3!=1.25.0,!=1.25.1,<1.26,>=1.21.1 in /usr/local/lib/python3.7/dist-packages (from requests->transformers) (1.24.3)\n",
            "Requirement already satisfied, skipping upgrade: chardet<4,>=3.0.2 in /usr/local/lib/python3.7/dist-packages (from requests->transformers) (3.0.4)\n",
            "Requirement already satisfied, skipping upgrade: certifi>=2017.4.17 in /usr/local/lib/python3.7/dist-packages (from requests->transformers) (2020.12.5)\n",
            "Requirement already satisfied, skipping upgrade: typing-extensions>=3.6.4; python_version < \"3.8\" in /usr/local/lib/python3.7/dist-packages (from importlib-metadata; python_version < \"3.8\"->transformers) (3.7.4.3)\n",
            "Requirement already satisfied, skipping upgrade: zipp>=0.5 in /usr/local/lib/python3.7/dist-packages (from importlib-metadata; python_version < \"3.8\"->transformers) (3.4.1)\n",
            "Requirement already satisfied, skipping upgrade: six in /usr/local/lib/python3.7/dist-packages (from sacremoses->transformers) (1.15.0)\n",
            "Requirement already satisfied, skipping upgrade: click in /usr/local/lib/python3.7/dist-packages (from sacremoses->transformers) (7.1.2)\n",
            "Requirement already satisfied, skipping upgrade: joblib in /usr/local/lib/python3.7/dist-packages (from sacremoses->transformers) (1.0.1)\n",
            "Building wheels for collected packages: sacremoses\n",
            "  Building wheel for sacremoses (setup.py) ... \u001b[?25l\u001b[?25hdone\n",
            "  Created wheel for sacremoses: filename=sacremoses-0.0.44-cp37-none-any.whl size=886084 sha256=751f8136c649c8cf94a348e0cef6e7fe0975debf55467c67be0b6f8f7c584aa2\n",
            "  Stored in directory: /root/.cache/pip/wheels/3e/fb/c0/13ab4d63d537658f448366744654323077c4d90069b6512f3c\n",
            "Successfully built sacremoses\n",
            "Installing collected packages: sacremoses, tokenizers, transformers\n",
            "Successfully installed sacremoses-0.0.44 tokenizers-0.10.2 transformers-4.5.1\n"
          ],
          "name": "stdout"
        }
      ]
    },
    {
      "cell_type": "code",
      "metadata": {
        "id": "1xFIyzorhD3C"
      },
      "source": [
        "import transformers\n",
        "from keras import layers, models"
      ],
      "execution_count": null,
      "outputs": []
    },
    {
      "cell_type": "code",
      "metadata": {
        "id": "9TjQd_W8q3jF"
      },
      "source": [
        "## distil-bert tokenizer\n",
        "tokenizer = transformers.AutoTokenizer.from_pretrained('distilbert-base-uncased', do_lower_case=True)"
      ],
      "execution_count": null,
      "outputs": []
    },
    {
      "cell_type": "code",
      "metadata": {
        "id": "p7GNgSxMpK3y"
      },
      "source": [
        "corpus = dtf[\"clean\"]\n",
        "  \n",
        "tokenizer_input = list(corpus)\n",
        "input_dict = tokenizer.batch_encode_plus(tokenizer_input, padding=True, truncation=True)\n",
        "\n",
        "id_input = np.asarray(input_dict['input_ids'], dtype='int32')\n",
        "mask_input = np.asarray(input_dict['attention_mask'], dtype='int32')\n",
        "    \n",
        "# generate segments\n",
        "# segments = [] \n",
        "# for ids in id_input:\n",
        "#     temp, i = [], 0\n",
        "#     for token in ids:\n",
        "#         temp.append(i)\n",
        "#         if token == 102:\n",
        "#              i += 1\n",
        "#     segments.append(temp)\n",
        "# seg_input = np.asarray(segments, dtype='int32')"
      ],
      "execution_count": null,
      "outputs": []
    },
    {
      "cell_type": "code",
      "metadata": {
        "id": "6X_6q4LcrRn8"
      },
      "source": [
        "id_train, id_test = train_test_split(id_input, test_size=0.2, random_state=42, stratify=dtf['labels'].values)\n",
        "mask_train, mask_test = train_test_split(mask_input, test_size=0.2, random_state=42, stratify=dtf['labels'].values)"
      ],
      "execution_count": null,
      "outputs": []
    },
    {
      "cell_type": "code",
      "metadata": {
        "id": "21YjjO3qs5ZF"
      },
      "source": [
        "y_train, y_test = train_test_split(dtf[\"labels\"].values, test_size=0.2, random_state=42, stratify=dtf['labels'].values)"
      ],
      "execution_count": null,
      "outputs": []
    },
    {
      "cell_type": "code",
      "metadata": {
        "colab": {
          "base_uri": "https://localhost:8080/"
        },
        "id": "yxBxU-s9uRzz",
        "outputId": "d75b1503-88f2-491a-9306-bdc4d06d3063"
      },
      "source": [
        "print(id_train.shape)\n",
        "print(mask_train.shape)\n",
        "print(y_train.shape)\n",
        "print(id_test.shape)\n",
        "print(mask_test.shape)\n",
        "print(y_test.shape)"
      ],
      "execution_count": null,
      "outputs": [
        {
          "output_type": "stream",
          "text": [
            "(18726, 77)\n",
            "(18726, 77)\n",
            "(18726,)\n",
            "(4682, 77)\n",
            "(4682, 77)\n",
            "(4682,)\n"
          ],
          "name": "stdout"
        }
      ]
    },
    {
      "cell_type": "code",
      "metadata": {
        "id": "ZdEfVKajxbY6"
      },
      "source": [
        "X_train = [id_train, mask_train]\n",
        "X_test = [id_test, mask_test]\n",
        "size = X_train[0].shape[1]"
      ],
      "execution_count": null,
      "outputs": []
    },
    {
      "cell_type": "code",
      "metadata": {
        "colab": {
          "base_uri": "https://localhost:8080/"
        },
        "id": "JhJ33lV2CfXQ",
        "outputId": "8b084b00-d1c0-4b22-967b-03f05e3d0dd5"
      },
      "source": [
        "## inputs\n",
        "idx = layers.Input((size), dtype=\"int32\", name=\"input_idx\")\n",
        "masks = layers.Input((size), dtype=\"int32\", name=\"input_masks\")\n",
        "## pre-trained bert with config\n",
        "config = transformers.DistilBertConfig(dropout=0.2, \n",
        "           attention_dropout=0.2)\n",
        "config.output_hidden_states = False\n",
        "nlp = transformers.TFDistilBertModel.from_pretrained('distilbert-base-uncased', config=config)\n",
        "bert_out = nlp(idx, attention_mask=masks)[0]\n",
        "## fine-tuning\n",
        "x = layers.GlobalAveragePooling1D()(bert_out)\n",
        "x = layers.Dense(64, activation=\"relu\")(x)\n",
        "y_out = layers.Dense(label_count, activation='softmax')(x)\n",
        "## compile\n",
        "model = models.Model([idx, masks], y_out)\n",
        "for layer in model.layers[:3]:\n",
        "    layer.trainable = False\n",
        "model.compile(loss='sparse_categorical_crossentropy', \n",
        "              optimizer='adam', metrics=['accuracy'])\n",
        "model.summary()"
      ],
      "execution_count": null,
      "outputs": [
        {
          "output_type": "stream",
          "text": [
            "Some layers from the model checkpoint at distilbert-base-uncased were not used when initializing TFDistilBertModel: ['vocab_projector', 'vocab_layer_norm', 'activation_13', 'vocab_transform']\n",
            "- This IS expected if you are initializing TFDistilBertModel from the checkpoint of a model trained on another task or with another architecture (e.g. initializing a BertForSequenceClassification model from a BertForPreTraining model).\n",
            "- This IS NOT expected if you are initializing TFDistilBertModel from the checkpoint of a model that you expect to be exactly identical (initializing a BertForSequenceClassification model from a BertForSequenceClassification model).\n",
            "All the layers of TFDistilBertModel were initialized from the model checkpoint at distilbert-base-uncased.\n",
            "If your task is similar to the task the model of the checkpoint was trained on, you can already use TFDistilBertModel for predictions without further training.\n"
          ],
          "name": "stderr"
        },
        {
          "output_type": "stream",
          "text": [
            "WARNING:tensorflow:The parameters `output_attentions`, `output_hidden_states` and `use_cache` cannot be updated when calling a model.They have to be set to True/False in the config object (i.e.: `config=XConfig.from_pretrained('name', output_attentions=True)`).\n",
            "WARNING:tensorflow:AutoGraph could not transform <bound method Socket.send of <zmq.sugar.socket.Socket object at 0x7f9763440d70>> and will run it as-is.\n",
            "Please report this to the TensorFlow team. When filing the bug, set the verbosity to 10 (on Linux, `export AUTOGRAPH_VERBOSITY=10`) and attach the full output.\n",
            "Cause: module, class, method, function, traceback, frame, or code object was expected, got cython_function_or_method\n",
            "To silence this warning, decorate the function with @tf.autograph.experimental.do_not_convert\n",
            "WARNING: AutoGraph could not transform <bound method Socket.send of <zmq.sugar.socket.Socket object at 0x7f9763440d70>> and will run it as-is.\n",
            "Please report this to the TensorFlow team. When filing the bug, set the verbosity to 10 (on Linux, `export AUTOGRAPH_VERBOSITY=10`) and attach the full output.\n",
            "Cause: module, class, method, function, traceback, frame, or code object was expected, got cython_function_or_method\n",
            "To silence this warning, decorate the function with @tf.autograph.experimental.do_not_convert\n",
            "WARNING:tensorflow:AutoGraph could not transform <function wrap at 0x7f978eceac20> and will run it as-is.\n",
            "Cause: while/else statement not yet supported\n",
            "To silence this warning, decorate the function with @tf.autograph.experimental.do_not_convert\n",
            "WARNING: AutoGraph could not transform <function wrap at 0x7f978eceac20> and will run it as-is.\n",
            "Cause: while/else statement not yet supported\n",
            "To silence this warning, decorate the function with @tf.autograph.experimental.do_not_convert\n",
            "WARNING:tensorflow:The parameter `return_dict` cannot be set in graph mode and will always be set to `True`.\n",
            "Model: \"model\"\n",
            "__________________________________________________________________________________________________\n",
            "Layer (type)                    Output Shape         Param #     Connected to                     \n",
            "==================================================================================================\n",
            "input_idx (InputLayer)          [(None, 77)]         0                                            \n",
            "__________________________________________________________________________________________________\n",
            "input_masks (InputLayer)        [(None, 77)]         0                                            \n",
            "__________________________________________________________________________________________________\n",
            "tf_distil_bert_model (TFDistilB TFBaseModelOutput(la 66362880    input_idx[0][0]                  \n",
            "                                                                 input_masks[0][0]                \n",
            "__________________________________________________________________________________________________\n",
            "global_average_pooling1d (Globa (None, 768)          0           tf_distil_bert_model[0][0]       \n",
            "__________________________________________________________________________________________________\n",
            "dense (Dense)                   (None, 64)           49216       global_average_pooling1d[0][0]   \n",
            "__________________________________________________________________________________________________\n",
            "dense_1 (Dense)                 (None, 5)            325         dense[0][0]                      \n",
            "==================================================================================================\n",
            "Total params: 66,412,421\n",
            "Trainable params: 49,541\n",
            "Non-trainable params: 66,362,880\n",
            "__________________________________________________________________________________________________\n"
          ],
          "name": "stdout"
        }
      ]
    },
    {
      "cell_type": "code",
      "metadata": {
        "colab": {
          "base_uri": "https://localhost:8080/"
        },
        "collapsed": true,
        "id": "2CpFg2uQaST3",
        "outputId": "2d106dfb-deda-45f5-c08c-e67ec05c9e47"
      },
      "source": [
        "y_train = np.array([inverse_dic[y] for y in y_train])\n",
        "\n",
        "## train\n",
        "training = model.fit(x=X_train, y=y_train, batch_size=64, \n",
        "                     epochs=1, shuffle=True, verbose=1, \n",
        "                     validation_split=0.3)"
      ],
      "execution_count": null,
      "outputs": [
        {
          "output_type": "stream",
          "text": [
            "WARNING:tensorflow:The parameters `output_attentions`, `output_hidden_states` and `use_cache` cannot be updated when calling a model.They have to be set to True/False in the config object (i.e.: `config=XConfig.from_pretrained('name', output_attentions=True)`).\n",
            "WARNING:tensorflow:The parameter `return_dict` cannot be set in graph mode and will always be set to `True`.\n",
            "WARNING:tensorflow:The parameters `output_attentions`, `output_hidden_states` and `use_cache` cannot be updated when calling a model.They have to be set to True/False in the config object (i.e.: `config=XConfig.from_pretrained('name', output_attentions=True)`).\n",
            "WARNING:tensorflow:The parameter `return_dict` cannot be set in graph mode and will always be set to `True`.\n",
            "205/205 [==============================] - ETA: 0s - loss: 1.1246 - accuracy: 0.5441WARNING:tensorflow:The parameters `output_attentions`, `output_hidden_states` and `use_cache` cannot be updated when calling a model.They have to be set to True/False in the config object (i.e.: `config=XConfig.from_pretrained('name', output_attentions=True)`).\n",
            "WARNING:tensorflow:The parameter `return_dict` cannot be set in graph mode and will always be set to `True`.\n",
            "205/205 [==============================] - 37s 151ms/step - loss: 1.1243 - accuracy: 0.5442 - val_loss: 0.9712 - val_accuracy: 0.6125\n"
          ],
          "name": "stdout"
        }
      ]
    },
    {
      "cell_type": "code",
      "metadata": {
        "colab": {
          "base_uri": "https://localhost:8080/"
        },
        "id": "l1H2Z_uybpCJ",
        "outputId": "684af311-64bf-477f-c899-f9ca9e4879f1"
      },
      "source": [
        "predicted_prob = model.predict(X_test)\n",
        "predicted = [dic_y_mapping[np.argmax(pred)] for pred in predicted_prob]"
      ],
      "execution_count": null,
      "outputs": [
        {
          "output_type": "stream",
          "text": [
            "WARNING:tensorflow:The parameters `output_attentions`, `output_hidden_states` and `use_cache` cannot be updated when calling a model.They have to be set to True/False in the config object (i.e.: `config=XConfig.from_pretrained('name', output_attentions=True)`).\n",
            "WARNING:tensorflow:The parameter `return_dict` cannot be set in graph mode and will always be set to `True`.\n"
          ],
          "name": "stdout"
        }
      ]
    },
    {
      "cell_type": "code",
      "metadata": {
        "colab": {
          "base_uri": "https://localhost:8080/"
        },
        "id": "Y3OK9qjvcFaB",
        "outputId": "3a766a85-3fd6-4f07-d002-0b2fe18dd19b"
      },
      "source": [
        "y_test_array = pd.get_dummies(y_test, drop_first=False).values\n",
        "classes = np.unique(y_test)\n",
        "class_names = []\n",
        "for i in list(np.unique(y_test)):\n",
        "  class_names.append(list(label_dict.keys())[list(label_dict.values()).index(i)])\n",
        "    \n",
        "## Accuracy, Precision, Recall\n",
        "accuracy = accuracy_score(y_test, predicted)\n",
        "auc_score = roc_auc_score(y_test, predicted_prob, \n",
        "                            multi_class=\"ovr\")\n",
        "print(\"Accuracy:\",  round(accuracy,2))\n",
        "print(\"Auc:\", round(auc_score,2))\n",
        "print(\"Detail:\")\n",
        "print(classification_report(y_test, predicted, target_names=class_names))\n",
        "\n",
        "fig, ax = plt.subplots(nrows=1, ncols=2)\n",
        "## Plot roc\n",
        "for i in range(label_count):\n",
        "    fpr, tpr, thresholds = roc_curve(y_test_array[:,i],  \n",
        "                           predicted_prob[:,i])\n",
        "    ax[0].plot(fpr, tpr, lw=3, \n",
        "              label='{0} (area={1:0.2f})'.format(list(label_dict.keys())[list(label_dict.values()).index(classes[i])], \n",
        "                              auc(fpr, tpr))\n",
        "               )\n",
        "ax[0].plot([0,1], [0,1], color='navy', lw=3, linestyle='--')\n",
        "ax[0].set(xlim=[-0.05,1.0], ylim=[0.0,1.05], \n",
        "          xlabel='False Positive Rate', \n",
        "          ylabel=\"True Positive Rate (Recall)\", \n",
        "          title=\"Receiver operating characteristic\")\n",
        "ax[0].legend(loc=\"lower right\")\n",
        "ax[0].grid(True)\n",
        "    \n",
        "## Plot precision-recall curve\n",
        "for i in range(label_count):\n",
        "    precision, recall, thresholds = precision_recall_curve(\n",
        "                 y_test_array[:,i], predicted_prob[:,i])\n",
        "    ax[1].plot(recall, precision, lw=3, \n",
        "               label='{0} (area={1:0.2f})'.format(list(label_dict.keys())[list(label_dict.values()).index(classes[i])], \n",
        "                                  auc(recall, precision))\n",
        "              )\n",
        "ax[1].set(xlim=[0.0,1.05], ylim=[0.0,1.05], xlabel='Recall', \n",
        "          ylabel=\"Precision\", title=\"Precision-Recall curve\")\n",
        "ax[1].legend(loc=\"best\")\n",
        "ax[1].grid(True)\n",
        "plt.show()\n",
        "\n",
        "cm = confusion_matrix(y_test, predicted)\n",
        "fig, ax = plt.subplots()\n",
        "sns.heatmap(cm, annot=True, fmt='d', ax=ax, cmap=plt.cm.Blues, \n",
        "            cbar=False)\n",
        "ax.set(xlabel=\"Pred\", ylabel=\"True\", xticklabels=class_names, \n",
        "       yticklabels=class_names, title=\"Confusion matrix\")\n",
        "plt.yticks(rotation=0)"
      ],
      "execution_count": null,
      "outputs": [
        {
          "output_type": "stream",
          "text": [
            "Accuracy: 0.61\n",
            "Auc: 0.79\n",
            "Detail:\n",
            "              precision    recall  f1-score   support\n",
            "\n",
            "      action       0.56      0.07      0.13       140\n",
            "      comedy       0.58      0.42      0.48      1429\n",
            "       drama       0.62      0.86      0.72      2421\n",
            "       horor       0.53      0.33      0.40       448\n",
            "     thriler       0.00      0.00      0.00       244\n",
            "\n",
            "    accuracy                           0.61      4682\n",
            "   macro avg       0.46      0.34      0.35      4682\n",
            "weighted avg       0.57      0.61      0.56      4682\n",
            "\n"
          ],
          "name": "stdout"
        },
        {
          "output_type": "stream",
          "text": [
            "/usr/local/lib/python3.7/dist-packages/sklearn/metrics/_classification.py:1272: UndefinedMetricWarning: Precision and F-score are ill-defined and being set to 0.0 in labels with no predicted samples. Use `zero_division` parameter to control this behavior.\n",
            "  _warn_prf(average, modifier, msg_start, len(result))\n"
          ],
          "name": "stderr"
        },
        {
          "output_type": "display_data",
          "data": {
            "image/png": "[encoded data removed]",
            "text/plain": [
              "<Figure size 432x288 with 2 Axes>"
            ]
          },
          "metadata": {
            "tags": [],
            "needs_background": "light"
          }
        },
        {
          "output_type": "execute_result",
          "data": {
            "text/plain": [
              "(array([0.5, 1.5, 2.5, 3.5, 4.5]), <a list of 5 Text major ticklabel objects>)"
            ]
          },
          "metadata": {
            "tags": []
          },
          "execution_count": 35
        }
      ]
    },
    {
      "cell_type": "markdown",
      "metadata": {
        "id": "143kP-3geJog"
      },
      "source": [
        "# END"
      ]
    }
  ]
}